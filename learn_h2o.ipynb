{
 "cells": [
  {
   "cell_type": "markdown",
   "metadata": {},
   "source": [
    "# QSAR modelling of estrogen receptor alpha ligands\n",
    "\n",
    "This notebook features a few methods that try to extract activity-structure information from experimental data. The data are saved in the database (DB) and can be loaded into a [pandas](http://pandas.pydata.org) data frame using the [`compound_db_utils`](https://github.com/martin-sicho/MI_ADM/tree/master/compound_db_utils) package:"
   ]
  },
  {
   "cell_type": "code",
   "execution_count": 1,
   "metadata": {
    "collapsed": false
   },
   "outputs": [
    {
     "name": "stderr",
     "output_type": "stream",
     "text": [
      "/home/sichom/Software/virtualenvs/miniconda3/envs/MI_ADM/lib/python3.5/site-packages/rdkit/Chem/PeriodicTable.py:131: FutureWarning: split() requires a non-empty pattern match.\n",
      "  splitLine = blankExpr.split(line)\n"
     ]
    }
   ],
   "source": [
    "import os, pickle, math\n",
    "\n",
    "from compound_db_utils import settings\n",
    "from compound_db_utils.data_loaders import fetch_learning_data\n",
    "\n",
    "RELOAD = False # if True, ignore the pickled data and update from DB\n",
    "\n",
    "def remove_inconsistent(smiles, ic50s):\n",
    "    \"\"\"\n",
    "    Filter that computes a consensus value for molecules that were tested\n",
    "    multiple times. The consensus is computed as the median of all \n",
    "    available values. \n",
    "    \n",
    "    Molecules with too much variation in the data \n",
    "    and too few data points are marked as inconsistent and\n",
    "    removed entirely.\n",
    "    \"\"\"\n",
    "    \n",
    "    if int(math.log(ic50s.min(), 10)) != int(math.log(ic50s.max(), 10)) and len(ic50s) < 20:\n",
    "        return False\n",
    "    else:\n",
    "        return ic50s.median()\n",
    "\n",
    "data = None\n",
    "if os.path.exists('data.pickle') and not RELOAD:\n",
    "    data = pickle.load(open('data.pickle', 'br'))\n",
    "else:\n",
    "    data = fetch_learning_data(\n",
    "                ['MI-T-d480066c']\n",
    "                , col_names_map={\n",
    "                    settings.COMPOUNDS_TABLE + '_smiles' : 'smiles'\n",
    "                    , settings.BIOACTIVITIES_TABLE + '_value' : 'ic50'\n",
    "                }\n",
    "                , create_rdkit_mols=False\n",
    "                , compute_descriptors=True\n",
    "                , duplicates_handler= remove_inconsistent\n",
    "            )\n",
    "    \n",
    "pickle.dump(data, open('data.pickle', 'bw'))    "
   ]
  },
  {
   "cell_type": "markdown",
   "metadata": {},
   "source": [
    "For each compound, the loaded data provide the canonical [SMILES](https://en.wikipedia.org/wiki/Simplified_molecular-input_line-entry_system) string and measured [IC50](https://en.wikipedia.org/wiki/IC50) values. We also chose to compute molecular descriptors for the compounds. Those are saved in the remaining columns (descriptors are computed using the [RDKit](https://rdkit.readthedocs.io/en/latest/) cheminformatics toolkit).\n",
    "\n",
    "Note that the original dataset may contain duplicate entries, because more experiments were often carried out for one given compound. Here, we decided to remove compounds that show large inconsistencies in their IC50 values and we do not have enough data to safely aggregate the values together.\n",
    "\n",
    "Because now we only have one SMILES string for each compound, we can use them as the index of the data frame:"
   ]
  },
  {
   "cell_type": "code",
   "execution_count": 2,
   "metadata": {
    "collapsed": false
   },
   "outputs": [
    {
     "name": "stdout",
     "output_type": "stream",
     "text": [
      "(1326, 198)\n"
     ]
    },
    {
     "data": {
      "text/html": [
       "<div>\n",
       "<table border=\"1\" class=\"dataframe\">\n",
       "  <thead>\n",
       "    <tr style=\"text-align: right;\">\n",
       "      <th></th>\n",
       "      <th>ic50</th>\n",
       "      <th>smiles</th>\n",
       "      <th>MinPartialCharge</th>\n",
       "      <th>MinAbsPartialCharge</th>\n",
       "      <th>NumValenceElectrons</th>\n",
       "      <th>MaxPartialCharge</th>\n",
       "      <th>MaxEStateIndex</th>\n",
       "      <th>NumRadicalElectrons</th>\n",
       "      <th>MinAbsEStateIndex</th>\n",
       "      <th>MinEStateIndex</th>\n",
       "      <th>...</th>\n",
       "      <th>fr_sulfide</th>\n",
       "      <th>fr_sulfonamd</th>\n",
       "      <th>fr_sulfone</th>\n",
       "      <th>fr_term_acetylene</th>\n",
       "      <th>fr_tetrazole</th>\n",
       "      <th>fr_thiazole</th>\n",
       "      <th>fr_thiocyan</th>\n",
       "      <th>fr_thiophene</th>\n",
       "      <th>fr_unbrch_alkane</th>\n",
       "      <th>fr_urea</th>\n",
       "    </tr>\n",
       "  </thead>\n",
       "  <tbody>\n",
       "    <tr>\n",
       "      <th>0</th>\n",
       "      <td>50.85</td>\n",
       "      <td>CC[Si](CC)(c1ccc(O)c(C)c1)c1ccc(O)c(C)c1</td>\n",
       "      <td>-0.507687</td>\n",
       "      <td>0.117970</td>\n",
       "      <td>112</td>\n",
       "      <td>0.117970</td>\n",
       "      <td>9.788292</td>\n",
       "      <td>0</td>\n",
       "      <td>0.357169</td>\n",
       "      <td>-1.826512</td>\n",
       "      <td>...</td>\n",
       "      <td>0</td>\n",
       "      <td>0</td>\n",
       "      <td>0</td>\n",
       "      <td>0</td>\n",
       "      <td>0</td>\n",
       "      <td>0</td>\n",
       "      <td>0</td>\n",
       "      <td>0</td>\n",
       "      <td>0</td>\n",
       "      <td>0</td>\n",
       "    </tr>\n",
       "    <tr>\n",
       "      <th>2</th>\n",
       "      <td>4.70</td>\n",
       "      <td>CCc1c(O)ccc2c1OC(c1ccc(OCCN3CCCCC3)cc1)C(c1ccc(O)cc1)S2</td>\n",
       "      <td>-0.507967</td>\n",
       "      <td>0.140270</td>\n",
       "      <td>184</td>\n",
       "      <td>0.140270</td>\n",
       "      <td>10.412779</td>\n",
       "      <td>0</td>\n",
       "      <td>0.002980</td>\n",
       "      <td>-0.243942</td>\n",
       "      <td>...</td>\n",
       "      <td>1</td>\n",
       "      <td>0</td>\n",
       "      <td>0</td>\n",
       "      <td>0</td>\n",
       "      <td>0</td>\n",
       "      <td>0</td>\n",
       "      <td>0</td>\n",
       "      <td>0</td>\n",
       "      <td>0</td>\n",
       "      <td>0</td>\n",
       "    </tr>\n",
       "    <tr>\n",
       "      <th>3</th>\n",
       "      <td>24.80</td>\n",
       "      <td>Cc1ccc(S(=O)(=O)N2CCc3cc(O)ccc3C2c2ccc(OCCN3CCCC3)cc2)cc1</td>\n",
       "      <td>-0.507956</td>\n",
       "      <td>0.243451</td>\n",
       "      <td>184</td>\n",
       "      <td>0.243451</td>\n",
       "      <td>13.740342</td>\n",
       "      <td>0</td>\n",
       "      <td>0.193604</td>\n",
       "      <td>-3.728670</td>\n",
       "      <td>...</td>\n",
       "      <td>0</td>\n",
       "      <td>1</td>\n",
       "      <td>0</td>\n",
       "      <td>0</td>\n",
       "      <td>0</td>\n",
       "      <td>0</td>\n",
       "      <td>0</td>\n",
       "      <td>0</td>\n",
       "      <td>0</td>\n",
       "      <td>0</td>\n",
       "    </tr>\n",
       "    <tr>\n",
       "      <th>4</th>\n",
       "      <td>6.00</td>\n",
       "      <td>CC1=C(c2ccc(O)cc2)C(=O)c2ccc(O)cc21</td>\n",
       "      <td>-0.507966</td>\n",
       "      <td>0.194032</td>\n",
       "      <td>94</td>\n",
       "      <td>0.194032</td>\n",
       "      <td>12.401821</td>\n",
       "      <td>0</td>\n",
       "      <td>0.043343</td>\n",
       "      <td>-0.043343</td>\n",
       "      <td>...</td>\n",
       "      <td>0</td>\n",
       "      <td>0</td>\n",
       "      <td>0</td>\n",
       "      <td>0</td>\n",
       "      <td>0</td>\n",
       "      <td>0</td>\n",
       "      <td>0</td>\n",
       "      <td>0</td>\n",
       "      <td>0</td>\n",
       "      <td>0</td>\n",
       "    </tr>\n",
       "    <tr>\n",
       "      <th>5</th>\n",
       "      <td>35.00</td>\n",
       "      <td>Oc1ccc2c(c1)S[C@H](c1ccco1)[C@H](c1ccc(OCCN3CCCCC3)cc1)O2</td>\n",
       "      <td>-0.507920</td>\n",
       "      <td>0.143093</td>\n",
       "      <td>162</td>\n",
       "      <td>0.143093</td>\n",
       "      <td>9.863330</td>\n",
       "      <td>0</td>\n",
       "      <td>0.046139</td>\n",
       "      <td>-0.198525</td>\n",
       "      <td>...</td>\n",
       "      <td>1</td>\n",
       "      <td>0</td>\n",
       "      <td>0</td>\n",
       "      <td>0</td>\n",
       "      <td>0</td>\n",
       "      <td>0</td>\n",
       "      <td>0</td>\n",
       "      <td>0</td>\n",
       "      <td>0</td>\n",
       "      <td>0</td>\n",
       "    </tr>\n",
       "    <tr>\n",
       "      <th>8</th>\n",
       "      <td>1260.00</td>\n",
       "      <td>O=c1c2oc3c(Br)cc(O)cc3c2oc2cc(O)cc(O)c12</td>\n",
       "      <td>-0.507895</td>\n",
       "      <td>0.239157</td>\n",
       "      <td>110</td>\n",
       "      <td>0.239157</td>\n",
       "      <td>12.512773</td>\n",
       "      <td>0</td>\n",
       "      <td>0.024466</td>\n",
       "      <td>-0.558945</td>\n",
       "      <td>...</td>\n",
       "      <td>0</td>\n",
       "      <td>0</td>\n",
       "      <td>0</td>\n",
       "      <td>0</td>\n",
       "      <td>0</td>\n",
       "      <td>0</td>\n",
       "      <td>0</td>\n",
       "      <td>0</td>\n",
       "      <td>0</td>\n",
       "      <td>0</td>\n",
       "    </tr>\n",
       "    <tr>\n",
       "      <th>9</th>\n",
       "      <td>1727.00</td>\n",
       "      <td>Oc1ccc2c(-c3cccc4ccc(O)cc34)noc2c1</td>\n",
       "      <td>-0.507943</td>\n",
       "      <td>0.170701</td>\n",
       "      <td>102</td>\n",
       "      <td>0.170701</td>\n",
       "      <td>9.724977</td>\n",
       "      <td>0</td>\n",
       "      <td>0.139596</td>\n",
       "      <td>0.139596</td>\n",
       "      <td>...</td>\n",
       "      <td>0</td>\n",
       "      <td>0</td>\n",
       "      <td>0</td>\n",
       "      <td>0</td>\n",
       "      <td>0</td>\n",
       "      <td>0</td>\n",
       "      <td>0</td>\n",
       "      <td>0</td>\n",
       "      <td>0</td>\n",
       "      <td>0</td>\n",
       "    </tr>\n",
       "    <tr>\n",
       "      <th>10</th>\n",
       "      <td>114.00</td>\n",
       "      <td>Cc1cc(O)cc2cc(-c3ccc(O)cc3)oc12</td>\n",
       "      <td>-0.507966</td>\n",
       "      <td>0.137489</td>\n",
       "      <td>90</td>\n",
       "      <td>0.137489</td>\n",
       "      <td>9.552571</td>\n",
       "      <td>0</td>\n",
       "      <td>0.225635</td>\n",
       "      <td>0.225635</td>\n",
       "      <td>...</td>\n",
       "      <td>0</td>\n",
       "      <td>0</td>\n",
       "      <td>0</td>\n",
       "      <td>0</td>\n",
       "      <td>0</td>\n",
       "      <td>0</td>\n",
       "      <td>0</td>\n",
       "      <td>0</td>\n",
       "      <td>0</td>\n",
       "      <td>0</td>\n",
       "    </tr>\n",
       "    <tr>\n",
       "      <th>11</th>\n",
       "      <td>527.00</td>\n",
       "      <td>C=Cc1cc(O)cc2ccc(-c3ccc(O)c(F)c3)cc12</td>\n",
       "      <td>-0.507921</td>\n",
       "      <td>0.164917</td>\n",
       "      <td>104</td>\n",
       "      <td>0.164917</td>\n",
       "      <td>13.477906</td>\n",
       "      <td>0</td>\n",
       "      <td>0.181322</td>\n",
       "      <td>-0.650697</td>\n",
       "      <td>...</td>\n",
       "      <td>0</td>\n",
       "      <td>0</td>\n",
       "      <td>0</td>\n",
       "      <td>0</td>\n",
       "      <td>0</td>\n",
       "      <td>0</td>\n",
       "      <td>0</td>\n",
       "      <td>0</td>\n",
       "      <td>0</td>\n",
       "      <td>0</td>\n",
       "    </tr>\n",
       "    <tr>\n",
       "      <th>12</th>\n",
       "      <td>2.20</td>\n",
       "      <td>OCC1CCN(CCOc2ccc(C3Oc4ccc(O)cc4SC3c3ccc(O)cc3)cc2)CC1</td>\n",
       "      <td>-0.507967</td>\n",
       "      <td>0.140005</td>\n",
       "      <td>184</td>\n",
       "      <td>0.140005</td>\n",
       "      <td>9.943080</td>\n",
       "      <td>0</td>\n",
       "      <td>0.043040</td>\n",
       "      <td>-0.232911</td>\n",
       "      <td>...</td>\n",
       "      <td>1</td>\n",
       "      <td>0</td>\n",
       "      <td>0</td>\n",
       "      <td>0</td>\n",
       "      <td>0</td>\n",
       "      <td>0</td>\n",
       "      <td>0</td>\n",
       "      <td>0</td>\n",
       "      <td>0</td>\n",
       "      <td>0</td>\n",
       "    </tr>\n",
       "  </tbody>\n",
       "</table>\n",
       "<p>10 rows × 198 columns</p>\n",
       "</div>"
      ],
      "text/plain": [
       "       ic50                                                     smiles  MinPartialCharge  MinAbsPartialCharge  NumValenceElectrons  MaxPartialCharge  MaxEStateIndex  NumRadicalElectrons  MinAbsEStateIndex  MinEStateIndex   ...     fr_sulfide  fr_sulfonamd  fr_sulfone  fr_term_acetylene  fr_tetrazole  fr_thiazole  fr_thiocyan  fr_thiophene  fr_unbrch_alkane  fr_urea\n",
       "0     50.85                   CC[Si](CC)(c1ccc(O)c(C)c1)c1ccc(O)c(C)c1         -0.507687             0.117970                  112          0.117970        9.788292                    0           0.357169       -1.826512   ...              0             0           0                  0             0            0            0             0                 0        0\n",
       "2      4.70    CCc1c(O)ccc2c1OC(c1ccc(OCCN3CCCCC3)cc1)C(c1ccc(O)cc1)S2         -0.507967             0.140270                  184          0.140270       10.412779                    0           0.002980       -0.243942   ...              1             0           0                  0             0            0            0             0                 0        0\n",
       "3     24.80  Cc1ccc(S(=O)(=O)N2CCc3cc(O)ccc3C2c2ccc(OCCN3CCCC3)cc2)cc1         -0.507956             0.243451                  184          0.243451       13.740342                    0           0.193604       -3.728670   ...              0             1           0                  0             0            0            0             0                 0        0\n",
       "4      6.00                        CC1=C(c2ccc(O)cc2)C(=O)c2ccc(O)cc21         -0.507966             0.194032                   94          0.194032       12.401821                    0           0.043343       -0.043343   ...              0             0           0                  0             0            0            0             0                 0        0\n",
       "5     35.00  Oc1ccc2c(c1)S[C@H](c1ccco1)[C@H](c1ccc(OCCN3CCCCC3)cc1)O2         -0.507920             0.143093                  162          0.143093        9.863330                    0           0.046139       -0.198525   ...              1             0           0                  0             0            0            0             0                 0        0\n",
       "8   1260.00                   O=c1c2oc3c(Br)cc(O)cc3c2oc2cc(O)cc(O)c12         -0.507895             0.239157                  110          0.239157       12.512773                    0           0.024466       -0.558945   ...              0             0           0                  0             0            0            0             0                 0        0\n",
       "9   1727.00                         Oc1ccc2c(-c3cccc4ccc(O)cc34)noc2c1         -0.507943             0.170701                  102          0.170701        9.724977                    0           0.139596        0.139596   ...              0             0           0                  0             0            0            0             0                 0        0\n",
       "10   114.00                            Cc1cc(O)cc2cc(-c3ccc(O)cc3)oc12         -0.507966             0.137489                   90          0.137489        9.552571                    0           0.225635        0.225635   ...              0             0           0                  0             0            0            0             0                 0        0\n",
       "11   527.00                      C=Cc1cc(O)cc2ccc(-c3ccc(O)c(F)c3)cc12         -0.507921             0.164917                  104          0.164917       13.477906                    0           0.181322       -0.650697   ...              0             0           0                  0             0            0            0             0                 0        0\n",
       "12     2.20      OCC1CCN(CCOc2ccc(C3Oc4ccc(O)cc4SC3c3ccc(O)cc3)cc2)CC1         -0.507967             0.140005                  184          0.140005        9.943080                    0           0.043040       -0.232911   ...              1             0           0                  0             0            0            0             0                 0        0\n",
       "\n",
       "[10 rows x 198 columns]"
      ]
     },
     "execution_count": 2,
     "metadata": {},
     "output_type": "execute_result"
    }
   ],
   "source": [
    "# data.set_index('smiles', inplace=True)\n",
    "print(data.shape)\n",
    "data.head(10)"
   ]
  },
  {
   "cell_type": "markdown",
   "metadata": {},
   "source": [
    "Next, we convert the IC50 values to pIC50 which is defined as the negative logarithm with base 10 of the concentration in moles rather than nanomoles (the default unit for the data in our database): "
   ]
  },
  {
   "cell_type": "code",
   "execution_count": 3,
   "metadata": {
    "collapsed": true
   },
   "outputs": [],
   "source": [
    "import numpy as np\n",
    "\n",
    "data.ic50 = data.ic50.apply(lambda x : -1.0 * np.log10(x / 1.0e9))"
   ]
  },
  {
   "cell_type": "markdown",
   "metadata": {},
   "source": [
    "Because of the logarithmic scale, the converted data are now much 'nicer' (note that the higher the pIC50 value, the more potent the compound is as opposed to the raw IC50 value where lower value means higher potency):"
   ]
  },
  {
   "cell_type": "code",
   "execution_count": 4,
   "metadata": {
    "collapsed": false
   },
   "outputs": [
    {
     "name": "stdout",
     "output_type": "stream",
     "text": [
      "Original:\n",
      "count       1326.000000\n",
      "mean       12355.111644\n",
      "std       126442.443376\n",
      "min            0.200000\n",
      "25%           56.250000\n",
      "50%          625.500000\n",
      "75%         7312.457500\n",
      "max      3500000.000000\n",
      "Name: ic50, dtype: float64\n",
      "\n",
      "Converted:\n",
      "count    1326.000000\n",
      "mean        6.293268\n",
      "std         1.357540\n",
      "min         2.455932\n",
      "25%         5.135937\n",
      "50%         6.203773\n",
      "75%         7.249890\n",
      "max         9.698970\n",
      "Name: ic50, dtype: float64\n"
     ]
    },
    {
     "data": {
      "text/plain": [
       "[]"
      ]
     },
     "execution_count": 4,
     "metadata": {},
     "output_type": "execute_result"
    },
    {
     "data": {
      "image/png": "[encoded data removed]",
      "text/plain": [
       "<matplotlib.figure.Figure at 0x7f56a45ae0f0>"
      ]
     },
     "metadata": {},
     "output_type": "display_data"
    }
   ],
   "source": [
    "%matplotlib inline\n",
    "print('Original:')\n",
    "print(data.ic50.apply(lambda x : np.power(10, - x) * 1.0e9).describe())\n",
    "print('\\nConverted:')\n",
    "print(data.ic50.describe())\n",
    "data.ic50.hist().plot()"
   ]
  },
  {
   "cell_type": "markdown",
   "metadata": {},
   "source": [
    "In this experiment, we will be using [h2o](http://www.h2o.ai/) for Python to build the model. Therefore, we initialize the `h2o` module and upload our data to the H2O cluster:"
   ]
  },
  {
   "cell_type": "code",
   "execution_count": 5,
   "metadata": {
    "collapsed": false
   },
   "outputs": [
    {
     "data": {
      "text/html": [
       "<div style=\"overflow:auto\"><table style=\"width:50%\"><tr><td>H2O cluster uptime: </td>\n",
       "<td>1 hours 6 minutes 53 seconds 622 milliseconds </td></tr>\n",
       "<tr><td>H2O cluster version: </td>\n",
       "<td>3.8.2.8</td></tr>\n",
       "<tr><td>H2O cluster name: </td>\n",
       "<td>sichom</td></tr>\n",
       "<tr><td>H2O cluster total nodes: </td>\n",
       "<td>1</td></tr>\n",
       "<tr><td>H2O cluster total free memory: </td>\n",
       "<td>778.28 MB</td></tr>\n",
       "<tr><td>H2O cluster total cores: </td>\n",
       "<td>2</td></tr>\n",
       "<tr><td>H2O cluster allowed cores: </td>\n",
       "<td>2</td></tr>\n",
       "<tr><td>H2O cluster healthy: </td>\n",
       "<td>True</td></tr>\n",
       "<tr><td>H2O Connection ip: </td>\n",
       "<td>127.0.0.1</td></tr>\n",
       "<tr><td>H2O Connection port: </td>\n",
       "<td>54321</td></tr>\n",
       "<tr><td>H2O Connection proxy: </td>\n",
       "<td>None</td></tr>\n",
       "<tr><td>Python Version: </td>\n",
       "<td>3.5.1</td></tr></table></div>"
      ],
      "text/plain": [
       "------------------------------  ---------------------------------------------\n",
       "H2O cluster uptime:             1 hours 6 minutes 53 seconds 622 milliseconds\n",
       "H2O cluster version:            3.8.2.8\n",
       "H2O cluster name:               sichom\n",
       "H2O cluster total nodes:        1\n",
       "H2O cluster total free memory:  778.28 MB\n",
       "H2O cluster total cores:        2\n",
       "H2O cluster allowed cores:      2\n",
       "H2O cluster healthy:            True\n",
       "H2O Connection ip:              127.0.0.1\n",
       "H2O Connection port:            54321\n",
       "H2O Connection proxy:\n",
       "Python Version:                 3.5.1\n",
       "------------------------------  ---------------------------------------------"
      ]
     },
     "metadata": {},
     "output_type": "display_data"
    },
    {
     "name": "stdout",
     "output_type": "stream",
     "text": [
      "\n",
      "Parse Progress: [##################################################] 100%\n"
     ]
    },
    {
     "data": {
      "text/html": [
       "<table>\n",
       "<tr><th style=\"text-align: right;\">   ic50</th><th>smiles                                                   </th><th style=\"text-align: right;\">  MinPartialCharge</th><th style=\"text-align: right;\">  MinAbsPartialCharge</th><th style=\"text-align: right;\">  NumValenceElectrons</th><th style=\"text-align: right;\">  MaxPartialCharge</th><th style=\"text-align: right;\">  MaxEStateIndex</th><th style=\"text-align: right;\">  NumRadicalElectrons</th><th style=\"text-align: right;\">  MinAbsEStateIndex</th><th style=\"text-align: right;\">  MinEStateIndex</th><th style=\"text-align: right;\">  HeavyAtomMolWt</th><th style=\"text-align: right;\">  MaxAbsPartialCharge</th><th style=\"text-align: right;\">  ExactMolWt</th><th style=\"text-align: right;\">  MolWt</th><th style=\"text-align: right;\">  MaxAbsEStateIndex</th><th style=\"text-align: right;\">  BalabanJ</th><th style=\"text-align: right;\">  BertzCT</th><th style=\"text-align: right;\">   Chi0</th><th style=\"text-align: right;\">   Chi0n</th><th style=\"text-align: right;\">   Chi0v</th><th style=\"text-align: right;\">    Chi1</th><th style=\"text-align: right;\">   Chi1n</th><th style=\"text-align: right;\">   Chi1v</th><th style=\"text-align: right;\">  Chi2n</th><th style=\"text-align: right;\">   Chi2v</th><th style=\"text-align: right;\">  Chi3n</th><th style=\"text-align: right;\">  Chi3v</th><th style=\"text-align: right;\">  Chi4n</th><th style=\"text-align: right;\">  Chi4v</th><th style=\"text-align: right;\">  HallKierAlpha</th><th style=\"text-align: right;\">             Ipc</th><th style=\"text-align: right;\">  Kappa1</th><th style=\"text-align: right;\">  Kappa2</th><th style=\"text-align: right;\">  Kappa3</th><th style=\"text-align: right;\">  LabuteASA</th><th style=\"text-align: right;\">  PEOE_VSA1</th><th style=\"text-align: right;\">  PEOE_VSA10</th><th style=\"text-align: right;\">  PEOE_VSA11</th><th style=\"text-align: right;\">  PEOE_VSA12</th><th style=\"text-align: right;\">  PEOE_VSA13</th><th style=\"text-align: right;\">  PEOE_VSA14</th><th style=\"text-align: right;\">  PEOE_VSA2</th><th style=\"text-align: right;\">  PEOE_VSA3</th><th style=\"text-align: right;\">  PEOE_VSA4</th><th style=\"text-align: right;\">  PEOE_VSA5</th><th style=\"text-align: right;\">  PEOE_VSA6</th><th style=\"text-align: right;\">  PEOE_VSA7</th><th style=\"text-align: right;\">  PEOE_VSA8</th><th style=\"text-align: right;\">  PEOE_VSA9</th><th style=\"text-align: right;\">  SMR_VSA1</th><th style=\"text-align: right;\">  SMR_VSA10</th><th style=\"text-align: right;\">  SMR_VSA2</th><th style=\"text-align: right;\">  SMR_VSA3</th><th style=\"text-align: right;\">  SMR_VSA4</th><th style=\"text-align: right;\">  SMR_VSA5</th><th style=\"text-align: right;\">  SMR_VSA6</th><th style=\"text-align: right;\">  SMR_VSA7</th><th style=\"text-align: right;\">  SMR_VSA8</th><th style=\"text-align: right;\">  SMR_VSA9</th><th style=\"text-align: right;\">  SlogP_VSA1</th><th style=\"text-align: right;\">  SlogP_VSA10</th><th style=\"text-align: right;\">  SlogP_VSA11</th><th style=\"text-align: right;\">  SlogP_VSA12</th><th style=\"text-align: right;\">  SlogP_VSA2</th><th style=\"text-align: right;\">  SlogP_VSA3</th><th style=\"text-align: right;\">  SlogP_VSA4</th><th style=\"text-align: right;\">  SlogP_VSA5</th><th style=\"text-align: right;\">  SlogP_VSA6</th><th style=\"text-align: right;\">  SlogP_VSA7</th><th style=\"text-align: right;\">  SlogP_VSA8</th><th style=\"text-align: right;\">  SlogP_VSA9</th><th style=\"text-align: right;\">  TPSA</th><th style=\"text-align: right;\">  EState_VSA1</th><th style=\"text-align: right;\">  EState_VSA10</th><th style=\"text-align: right;\">  EState_VSA11</th><th style=\"text-align: right;\">  EState_VSA2</th><th style=\"text-align: right;\">  EState_VSA3</th><th style=\"text-align: right;\">  EState_VSA4</th><th style=\"text-align: right;\">  EState_VSA5</th><th style=\"text-align: right;\">  EState_VSA6</th><th style=\"text-align: right;\">  EState_VSA7</th><th style=\"text-align: right;\">  EState_VSA8</th><th style=\"text-align: right;\">  EState_VSA9</th><th style=\"text-align: right;\">  VSA_EState1</th><th style=\"text-align: right;\">  VSA_EState10</th><th style=\"text-align: right;\">  VSA_EState2</th><th style=\"text-align: right;\">  VSA_EState3</th><th style=\"text-align: right;\">  VSA_EState4</th><th style=\"text-align: right;\">  VSA_EState5</th><th style=\"text-align: right;\">  VSA_EState6</th><th style=\"text-align: right;\">  VSA_EState7</th><th style=\"text-align: right;\">  VSA_EState8</th><th style=\"text-align: right;\">  VSA_EState9</th><th style=\"text-align: right;\">  FractionCSP3</th><th style=\"text-align: right;\">  HeavyAtomCount</th><th style=\"text-align: right;\">  NHOHCount</th><th style=\"text-align: right;\">  NOCount</th><th style=\"text-align: right;\">  NumAliphaticCarbocycles</th><th style=\"text-align: right;\">  NumAliphaticHeterocycles</th><th style=\"text-align: right;\">  NumAliphaticRings</th><th style=\"text-align: right;\">  NumAromaticCarbocycles</th><th style=\"text-align: right;\">  NumAromaticHeterocycles</th><th style=\"text-align: right;\">  NumAromaticRings</th><th style=\"text-align: right;\">  NumHAcceptors</th><th style=\"text-align: right;\">  NumHDonors</th><th style=\"text-align: right;\">  NumHeteroatoms</th><th style=\"text-align: right;\">  NumRotatableBonds</th><th style=\"text-align: right;\">  NumSaturatedCarbocycles</th><th style=\"text-align: right;\">  NumSaturatedHeterocycles</th><th style=\"text-align: right;\">  NumSaturatedRings</th><th style=\"text-align: right;\">  RingCount</th><th style=\"text-align: right;\">  MolLogP</th><th style=\"text-align: right;\">   MolMR</th><th style=\"text-align: right;\">  fr_Al_COO</th><th style=\"text-align: right;\">  fr_Al_OH</th><th style=\"text-align: right;\">  fr_Al_OH_noTert</th><th style=\"text-align: right;\">  fr_ArN</th><th style=\"text-align: right;\">  fr_Ar_COO</th><th style=\"text-align: right;\">  fr_Ar_N</th><th style=\"text-align: right;\">  fr_Ar_NH</th><th style=\"text-align: right;\">  fr_Ar_OH</th><th style=\"text-align: right;\">  fr_COO</th><th style=\"text-align: right;\">  fr_COO2</th><th style=\"text-align: right;\">  fr_C_O</th><th style=\"text-align: right;\">  fr_C_O_noCOO</th><th style=\"text-align: right;\">  fr_C_S</th><th style=\"text-align: right;\">  fr_HOCCN</th><th style=\"text-align: right;\">  fr_Imine</th><th style=\"text-align: right;\">  fr_NH0</th><th style=\"text-align: right;\">  fr_NH1</th><th style=\"text-align: right;\">  fr_NH2</th><th style=\"text-align: right;\">  fr_N_O</th><th style=\"text-align: right;\">  fr_Ndealkylation1</th><th style=\"text-align: right;\">  fr_Ndealkylation2</th><th style=\"text-align: right;\">  fr_Nhpyrrole</th><th style=\"text-align: right;\">  fr_SH</th><th style=\"text-align: right;\">  fr_aldehyde</th><th style=\"text-align: right;\">  fr_alkyl_carbamate</th><th style=\"text-align: right;\">  fr_alkyl_halide</th><th style=\"text-align: right;\">  fr_allylic_oxid</th><th style=\"text-align: right;\">  fr_amide</th><th style=\"text-align: right;\">  fr_amidine</th><th style=\"text-align: right;\">  fr_aniline</th><th style=\"text-align: right;\">  fr_aryl_methyl</th><th style=\"text-align: right;\">  fr_azide</th><th style=\"text-align: right;\">  fr_azo</th><th style=\"text-align: right;\">  fr_barbitur</th><th style=\"text-align: right;\">  fr_benzene</th><th style=\"text-align: right;\">  fr_benzodiazepine</th><th style=\"text-align: right;\">  fr_bicyclic</th><th style=\"text-align: right;\">  fr_diazo</th><th style=\"text-align: right;\">  fr_dihydropyridine</th><th style=\"text-align: right;\">  fr_epoxide</th><th style=\"text-align: right;\">  fr_ester</th><th style=\"text-align: right;\">  fr_ether</th><th style=\"text-align: right;\">  fr_furan</th><th style=\"text-align: right;\">  fr_guanido</th><th style=\"text-align: right;\">  fr_halogen</th><th style=\"text-align: right;\">  fr_hdrzine</th><th style=\"text-align: right;\">  fr_hdrzone</th><th style=\"text-align: right;\">  fr_imidazole</th><th style=\"text-align: right;\">  fr_imide</th><th style=\"text-align: right;\">  fr_isocyan</th><th style=\"text-align: right;\">  fr_isothiocyan</th><th style=\"text-align: right;\">  fr_ketone</th><th style=\"text-align: right;\">  fr_ketone_Topliss</th><th style=\"text-align: right;\">  fr_lactam</th><th style=\"text-align: right;\">  fr_lactone</th><th style=\"text-align: right;\">  fr_methoxy</th><th style=\"text-align: right;\">  fr_morpholine</th><th style=\"text-align: right;\">  fr_nitrile</th><th style=\"text-align: right;\">  fr_nitro</th><th style=\"text-align: right;\">  fr_nitro_arom</th><th style=\"text-align: right;\">  fr_nitro_arom_nonortho</th><th style=\"text-align: right;\">  fr_nitroso</th><th style=\"text-align: right;\">  fr_oxazole</th><th style=\"text-align: right;\">  fr_oxime</th><th style=\"text-align: right;\">  fr_para_hydroxylation</th><th style=\"text-align: right;\">  fr_phenol</th><th style=\"text-align: right;\">  fr_phenol_noOrthoHbond</th><th style=\"text-align: right;\">  fr_phos_acid</th><th style=\"text-align: right;\">  fr_phos_ester</th><th style=\"text-align: right;\">  fr_piperdine</th><th style=\"text-align: right;\">  fr_piperzine</th><th style=\"text-align: right;\">  fr_priamide</th><th style=\"text-align: right;\">  fr_prisulfonamd</th><th style=\"text-align: right;\">  fr_pyridine</th><th style=\"text-align: right;\">  fr_quatN</th><th style=\"text-align: right;\">  fr_sulfide</th><th style=\"text-align: right;\">  fr_sulfonamd</th><th style=\"text-align: right;\">  fr_sulfone</th><th style=\"text-align: right;\">  fr_term_acetylene</th><th style=\"text-align: right;\">  fr_tetrazole</th><th style=\"text-align: right;\">  fr_thiazole</th><th style=\"text-align: right;\">  fr_thiocyan</th><th style=\"text-align: right;\">  fr_thiophene</th><th style=\"text-align: right;\">  fr_unbrch_alkane</th><th style=\"text-align: right;\">  fr_urea</th></tr>\n",
       "<tr><td style=\"text-align: right;\">7.29371</td><td>CC[Si](CC)(c1ccc(O)c(C)c1)c1ccc(O)c(C)c1                 </td><td style=\"text-align: right;\">         -0.507687</td><td style=\"text-align: right;\">             0.11797 </td><td style=\"text-align: right;\">                  112</td><td style=\"text-align: right;\">          0.11797 </td><td style=\"text-align: right;\">         9.78829</td><td style=\"text-align: right;\">                    0</td><td style=\"text-align: right;\">         0.357169  </td><td style=\"text-align: right;\">      -1.82651  </td><td style=\"text-align: right;\">         276.282</td><td style=\"text-align: right;\">             0.507687</td><td style=\"text-align: right;\">     300.155</td><td style=\"text-align: right;\">300.474</td><td style=\"text-align: right;\">            9.78829</td><td style=\"text-align: right;\">   2.63124</td><td style=\"text-align: right;\">  592.162</td><td style=\"text-align: right;\">15.621 </td><td style=\"text-align: right;\">13.2727 </td><td style=\"text-align: right;\">14.2727 </td><td style=\"text-align: right;\"> 9.94072</td><td style=\"text-align: right;\"> 7.5446 </td><td style=\"text-align: right;\"> 9.95882</td><td style=\"text-align: right;\">5.79175</td><td style=\"text-align: right;\">10.5249 </td><td style=\"text-align: right;\">4.70586</td><td style=\"text-align: right;\">9.95243</td><td style=\"text-align: right;\">3.13943</td><td style=\"text-align: right;\">7.39609</td><td style=\"text-align: right;\">       -1.74312</td><td style=\"text-align: right;\"> 47134.1        </td><td style=\"text-align: right;\"> 15.6421</td><td style=\"text-align: right;\"> 5.93886</td><td style=\"text-align: right;\"> 2.70213</td><td style=\"text-align: right;\">    127.648</td><td style=\"text-align: right;\">   10.2131 </td><td style=\"text-align: right;\">    19.5729 </td><td style=\"text-align: right;\">           0</td><td style=\"text-align: right;\">           0</td><td style=\"text-align: right;\">           0</td><td style=\"text-align: right;\">           0</td><td style=\"text-align: right;\">          0</td><td style=\"text-align: right;\">          0</td><td style=\"text-align: right;\">          0</td><td style=\"text-align: right;\">          0</td><td style=\"text-align: right;\">    60.5746</td><td style=\"text-align: right;\">    37.1071</td><td style=\"text-align: right;\">          0</td><td style=\"text-align: right;\">          0</td><td style=\"text-align: right;\">  10.2131 </td><td style=\"text-align: right;\">    18.4473</td><td style=\"text-align: right;\">         0</td><td style=\"text-align: right;\">         0</td><td style=\"text-align: right;\">         0</td><td style=\"text-align: right;\">  39.7831 </td><td style=\"text-align: right;\">         0</td><td style=\"text-align: right;\">   47.5251</td><td style=\"text-align: right;\">         0</td><td style=\"text-align: right;\">  11.499  </td><td style=\"text-align: right;\">    10.3735 </td><td style=\"text-align: right;\">            0</td><td style=\"text-align: right;\">     11.499  </td><td style=\"text-align: right;\">            0</td><td style=\"text-align: right;\">     18.2869</td><td style=\"text-align: right;\">           0</td><td style=\"text-align: right;\">    13.8475 </td><td style=\"text-align: right;\">    24.9744 </td><td style=\"text-align: right;\">     36.3982</td><td style=\"text-align: right;\">     12.0882</td><td style=\"text-align: right;\">           0</td><td style=\"text-align: right;\">           0</td><td style=\"text-align: right;\"> 40.46</td><td style=\"text-align: right;\">      8.07387</td><td style=\"text-align: right;\">      10.2131 </td><td style=\"text-align: right;\">             0</td><td style=\"text-align: right;\">            0</td><td style=\"text-align: right;\">     11.499  </td><td style=\"text-align: right;\">     23.2151 </td><td style=\"text-align: right;\">     10.3735 </td><td style=\"text-align: right;\">            0</td><td style=\"text-align: right;\">     25.9802 </td><td style=\"text-align: right;\">     38.1129 </td><td style=\"text-align: right;\">            0</td><td style=\"text-align: right;\">            0</td><td style=\"text-align: right;\">             0</td><td style=\"text-align: right;\">            0</td><td style=\"text-align: right;\">            0</td><td style=\"text-align: right;\">            0</td><td style=\"text-align: right;\">            0</td><td style=\"text-align: right;\">            0</td><td style=\"text-align: right;\">            0</td><td style=\"text-align: right;\">            0</td><td style=\"text-align: right;\">      45.6944</td><td style=\"text-align: right;\">     0.333333 </td><td style=\"text-align: right;\">              21</td><td style=\"text-align: right;\">          2</td><td style=\"text-align: right;\">        2</td><td style=\"text-align: right;\">                        0</td><td style=\"text-align: right;\">                         0</td><td style=\"text-align: right;\">                  0</td><td style=\"text-align: right;\">                       2</td><td style=\"text-align: right;\">                        0</td><td style=\"text-align: right;\">                 2</td><td style=\"text-align: right;\">              2</td><td style=\"text-align: right;\">           2</td><td style=\"text-align: right;\">               3</td><td style=\"text-align: right;\">                  4</td><td style=\"text-align: right;\">                        0</td><td style=\"text-align: right;\">                         0</td><td style=\"text-align: right;\">                  0</td><td style=\"text-align: right;\">          2</td><td style=\"text-align: right;\">  3.31744</td><td style=\"text-align: right;\"> 91.6716</td><td style=\"text-align: right;\">          0</td><td style=\"text-align: right;\">         0</td><td style=\"text-align: right;\">                0</td><td style=\"text-align: right;\">       0</td><td style=\"text-align: right;\">          0</td><td style=\"text-align: right;\">        0</td><td style=\"text-align: right;\">         0</td><td style=\"text-align: right;\">         2</td><td style=\"text-align: right;\">       0</td><td style=\"text-align: right;\">        0</td><td style=\"text-align: right;\">       0</td><td style=\"text-align: right;\">             0</td><td style=\"text-align: right;\">       0</td><td style=\"text-align: right;\">         0</td><td style=\"text-align: right;\">         0</td><td style=\"text-align: right;\">       0</td><td style=\"text-align: right;\">       0</td><td style=\"text-align: right;\">       0</td><td style=\"text-align: right;\">       0</td><td style=\"text-align: right;\">                  0</td><td style=\"text-align: right;\">                  0</td><td style=\"text-align: right;\">             0</td><td style=\"text-align: right;\">      0</td><td style=\"text-align: right;\">            0</td><td style=\"text-align: right;\">                   0</td><td style=\"text-align: right;\">                0</td><td style=\"text-align: right;\">                0</td><td style=\"text-align: right;\">         0</td><td style=\"text-align: right;\">           0</td><td style=\"text-align: right;\">           0</td><td style=\"text-align: right;\">               2</td><td style=\"text-align: right;\">         0</td><td style=\"text-align: right;\">       0</td><td style=\"text-align: right;\">            0</td><td style=\"text-align: right;\">           2</td><td style=\"text-align: right;\">                  0</td><td style=\"text-align: right;\">            0</td><td style=\"text-align: right;\">         0</td><td style=\"text-align: right;\">                   0</td><td style=\"text-align: right;\">           0</td><td style=\"text-align: right;\">         0</td><td style=\"text-align: right;\">         0</td><td style=\"text-align: right;\">         0</td><td style=\"text-align: right;\">           0</td><td style=\"text-align: right;\">           0</td><td style=\"text-align: right;\">           0</td><td style=\"text-align: right;\">           0</td><td style=\"text-align: right;\">             0</td><td style=\"text-align: right;\">         0</td><td style=\"text-align: right;\">           0</td><td style=\"text-align: right;\">               0</td><td style=\"text-align: right;\">          0</td><td style=\"text-align: right;\">                  0</td><td style=\"text-align: right;\">          0</td><td style=\"text-align: right;\">           0</td><td style=\"text-align: right;\">           0</td><td style=\"text-align: right;\">              0</td><td style=\"text-align: right;\">           0</td><td style=\"text-align: right;\">         0</td><td style=\"text-align: right;\">              0</td><td style=\"text-align: right;\">                       0</td><td style=\"text-align: right;\">           0</td><td style=\"text-align: right;\">           0</td><td style=\"text-align: right;\">         0</td><td style=\"text-align: right;\">                      0</td><td style=\"text-align: right;\">          2</td><td style=\"text-align: right;\">                       2</td><td style=\"text-align: right;\">             0</td><td style=\"text-align: right;\">              0</td><td style=\"text-align: right;\">             0</td><td style=\"text-align: right;\">             0</td><td style=\"text-align: right;\">            0</td><td style=\"text-align: right;\">                0</td><td style=\"text-align: right;\">            0</td><td style=\"text-align: right;\">         0</td><td style=\"text-align: right;\">           0</td><td style=\"text-align: right;\">             0</td><td style=\"text-align: right;\">           0</td><td style=\"text-align: right;\">                  0</td><td style=\"text-align: right;\">             0</td><td style=\"text-align: right;\">            0</td><td style=\"text-align: right;\">            0</td><td style=\"text-align: right;\">             0</td><td style=\"text-align: right;\">                 0</td><td style=\"text-align: right;\">        0</td></tr>\n",
       "<tr><td style=\"text-align: right;\">8.3279 </td><td>CCc1c(O)ccc2c1OC(c1ccc(OCCN3CCCCC3)cc1)C(c1ccc(O)cc1)S2  </td><td style=\"text-align: right;\">         -0.507967</td><td style=\"text-align: right;\">             0.14027 </td><td style=\"text-align: right;\">                  184</td><td style=\"text-align: right;\">          0.14027 </td><td style=\"text-align: right;\">        10.4128 </td><td style=\"text-align: right;\">                    0</td><td style=\"text-align: right;\">         0.00298043</td><td style=\"text-align: right;\">      -0.243942 </td><td style=\"text-align: right;\">         458.389</td><td style=\"text-align: right;\">             0.507967</td><td style=\"text-align: right;\">     491.213</td><td style=\"text-align: right;\">491.653</td><td style=\"text-align: right;\">           10.4128 </td><td style=\"text-align: right;\">   1.36849</td><td style=\"text-align: right;\"> 1126.67 </td><td style=\"text-align: right;\">24.2001</td><td style=\"text-align: right;\">20.1514 </td><td style=\"text-align: right;\">20.9679 </td><td style=\"text-align: right;\">17.1185 </td><td style=\"text-align: right;\">12.5431 </td><td style=\"text-align: right;\">13.4228 </td><td style=\"text-align: right;\">9.23229</td><td style=\"text-align: right;\">10.4157 </td><td style=\"text-align: right;\">6.8821 </td><td style=\"text-align: right;\">8.23081</td><td style=\"text-align: right;\">4.92597</td><td style=\"text-align: right;\">6.25401</td><td style=\"text-align: right;\">       -2.83   </td><td style=\"text-align: right;\">     1.29129e+08</td><td style=\"text-align: right;\"> 23.8906</td><td style=\"text-align: right;\">10.8357 </td><td style=\"text-align: right;\"> 5.3865 </td><td style=\"text-align: right;\">    211.247</td><td style=\"text-align: right;\">   10.2131 </td><td style=\"text-align: right;\">    35.7089 </td><td style=\"text-align: right;\">           0</td><td style=\"text-align: right;\">           0</td><td style=\"text-align: right;\">           0</td><td style=\"text-align: right;\">           0</td><td style=\"text-align: right;\">          0</td><td style=\"text-align: right;\">          0</td><td style=\"text-align: right;\">          0</td><td style=\"text-align: right;\">          0</td><td style=\"text-align: right;\">    37.61  </td><td style=\"text-align: right;\">    79.8771</td><td style=\"text-align: right;\">          0</td><td style=\"text-align: right;\">          0</td><td style=\"text-align: right;\">  10.2131 </td><td style=\"text-align: right;\">    11.7619</td><td style=\"text-align: right;\">         0</td><td style=\"text-align: right;\">         0</td><td style=\"text-align: right;\">         0</td><td style=\"text-align: right;\">  48.8564 </td><td style=\"text-align: right;\">         0</td><td style=\"text-align: right;\">   77.354 </td><td style=\"text-align: right;\">         0</td><td style=\"text-align: right;\">  13.0277 </td><td style=\"text-align: right;\">    32.352  </td><td style=\"text-align: right;\">            0</td><td style=\"text-align: right;\">     13.0277 </td><td style=\"text-align: right;\">            0</td><td style=\"text-align: right;\">     41.3541</td><td style=\"text-align: right;\">           0</td><td style=\"text-align: right;\">     0      </td><td style=\"text-align: right;\">    54.2305 </td><td style=\"text-align: right;\">     65.5592</td><td style=\"text-align: right;\">      0     </td><td style=\"text-align: right;\">           0</td><td style=\"text-align: right;\">           0</td><td style=\"text-align: right;\"> 62.16</td><td style=\"text-align: right;\">      0      </td><td style=\"text-align: right;\">      10.2131 </td><td style=\"text-align: right;\">             0</td><td style=\"text-align: right;\">            0</td><td style=\"text-align: right;\">     13.0277 </td><td style=\"text-align: right;\">     39.6296 </td><td style=\"text-align: right;\">     32.352  </td><td style=\"text-align: right;\">            0</td><td style=\"text-align: right;\">     37.2556 </td><td style=\"text-align: right;\">     17.0326 </td><td style=\"text-align: right;\">            0</td><td style=\"text-align: right;\">            0</td><td style=\"text-align: right;\">             0</td><td style=\"text-align: right;\">            0</td><td style=\"text-align: right;\">            0</td><td style=\"text-align: right;\">            0</td><td style=\"text-align: right;\">            0</td><td style=\"text-align: right;\">            0</td><td style=\"text-align: right;\">            0</td><td style=\"text-align: right;\">            0</td><td style=\"text-align: right;\">      71.0968</td><td style=\"text-align: right;\">     0.37931  </td><td style=\"text-align: right;\">              35</td><td style=\"text-align: right;\">          2</td><td style=\"text-align: right;\">        2</td><td style=\"text-align: right;\">                        0</td><td style=\"text-align: right;\">                         0</td><td style=\"text-align: right;\">                  0</td><td style=\"text-align: right;\">                       2</td><td style=\"text-align: right;\">                        0</td><td style=\"text-align: right;\">                 2</td><td style=\"text-align: right;\">              2</td><td style=\"text-align: right;\">           2</td><td style=\"text-align: right;\">               6</td><td style=\"text-align: right;\">                  7</td><td style=\"text-align: right;\">                        0</td><td style=\"text-align: right;\">                         0</td><td style=\"text-align: right;\">                  0</td><td style=\"text-align: right;\">          2</td><td style=\"text-align: right;\">  6.492  </td><td style=\"text-align: right;\">139.787 </td><td style=\"text-align: right;\">          0</td><td style=\"text-align: right;\">         0</td><td style=\"text-align: right;\">                0</td><td style=\"text-align: right;\">       0</td><td style=\"text-align: right;\">          0</td><td style=\"text-align: right;\">        0</td><td style=\"text-align: right;\">         0</td><td style=\"text-align: right;\">         2</td><td style=\"text-align: right;\">       0</td><td style=\"text-align: right;\">        0</td><td style=\"text-align: right;\">       0</td><td style=\"text-align: right;\">             0</td><td style=\"text-align: right;\">       0</td><td style=\"text-align: right;\">         0</td><td style=\"text-align: right;\">         0</td><td style=\"text-align: right;\">       0</td><td style=\"text-align: right;\">       0</td><td style=\"text-align: right;\">       0</td><td style=\"text-align: right;\">       0</td><td style=\"text-align: right;\">                  0</td><td style=\"text-align: right;\">                  0</td><td style=\"text-align: right;\">             0</td><td style=\"text-align: right;\">      0</td><td style=\"text-align: right;\">            0</td><td style=\"text-align: right;\">                   0</td><td style=\"text-align: right;\">                0</td><td style=\"text-align: right;\">                0</td><td style=\"text-align: right;\">         0</td><td style=\"text-align: right;\">           0</td><td style=\"text-align: right;\">           0</td><td style=\"text-align: right;\">               2</td><td style=\"text-align: right;\">         0</td><td style=\"text-align: right;\">       0</td><td style=\"text-align: right;\">            0</td><td style=\"text-align: right;\">           2</td><td style=\"text-align: right;\">                  0</td><td style=\"text-align: right;\">            0</td><td style=\"text-align: right;\">         0</td><td style=\"text-align: right;\">                   0</td><td style=\"text-align: right;\">           0</td><td style=\"text-align: right;\">         0</td><td style=\"text-align: right;\">         0</td><td style=\"text-align: right;\">         0</td><td style=\"text-align: right;\">           0</td><td style=\"text-align: right;\">           0</td><td style=\"text-align: right;\">           0</td><td style=\"text-align: right;\">           0</td><td style=\"text-align: right;\">             0</td><td style=\"text-align: right;\">         0</td><td style=\"text-align: right;\">           0</td><td style=\"text-align: right;\">               0</td><td style=\"text-align: right;\">          0</td><td style=\"text-align: right;\">                  0</td><td style=\"text-align: right;\">          0</td><td style=\"text-align: right;\">           0</td><td style=\"text-align: right;\">           0</td><td style=\"text-align: right;\">              0</td><td style=\"text-align: right;\">           0</td><td style=\"text-align: right;\">         0</td><td style=\"text-align: right;\">              0</td><td style=\"text-align: right;\">                       0</td><td style=\"text-align: right;\">           0</td><td style=\"text-align: right;\">           0</td><td style=\"text-align: right;\">         0</td><td style=\"text-align: right;\">                      0</td><td style=\"text-align: right;\">          2</td><td style=\"text-align: right;\">                       2</td><td style=\"text-align: right;\">             0</td><td style=\"text-align: right;\">              0</td><td style=\"text-align: right;\">             0</td><td style=\"text-align: right;\">             0</td><td style=\"text-align: right;\">            0</td><td style=\"text-align: right;\">                0</td><td style=\"text-align: right;\">            0</td><td style=\"text-align: right;\">         0</td><td style=\"text-align: right;\">           0</td><td style=\"text-align: right;\">             0</td><td style=\"text-align: right;\">           0</td><td style=\"text-align: right;\">                  0</td><td style=\"text-align: right;\">             0</td><td style=\"text-align: right;\">            0</td><td style=\"text-align: right;\">            0</td><td style=\"text-align: right;\">             0</td><td style=\"text-align: right;\">                 0</td><td style=\"text-align: right;\">        0</td></tr>\n",
       "<tr><td style=\"text-align: right;\">7.60555</td><td>Cc1ccc(S(=O)(=O)N2CCc3cc(O)ccc3C2c2ccc(OCCN3CCCC3)cc2)cc1</td><td style=\"text-align: right;\">         -0.507956</td><td style=\"text-align: right;\">             0.243451</td><td style=\"text-align: right;\">                  184</td><td style=\"text-align: right;\">          0.243451</td><td style=\"text-align: right;\">        13.7403 </td><td style=\"text-align: right;\">                    0</td><td style=\"text-align: right;\">         0.193604  </td><td style=\"text-align: right;\">      -3.72867  </td><td style=\"text-align: right;\">         460.385</td><td style=\"text-align: right;\">             0.507956</td><td style=\"text-align: right;\">     492.208</td><td style=\"text-align: right;\">492.641</td><td style=\"text-align: right;\">           13.7403 </td><td style=\"text-align: right;\">   1.43494</td><td style=\"text-align: right;\"> 1267.31 </td><td style=\"text-align: right;\">24.4156</td><td style=\"text-align: right;\">20.0597 </td><td style=\"text-align: right;\">20.8762 </td><td style=\"text-align: right;\">16.9139 </td><td style=\"text-align: right;\">12.2712 </td><td style=\"text-align: right;\">13.7113 </td><td style=\"text-align: right;\">9.43071</td><td style=\"text-align: right;\">11.3213 </td><td style=\"text-align: right;\">7.00899</td><td style=\"text-align: right;\">8.88773</td><td style=\"text-align: right;\">5.08587</td><td style=\"text-align: right;\">6.68114</td><td style=\"text-align: right;\">       -2.87   </td><td style=\"text-align: right;\">     1.27413e+08</td><td style=\"text-align: right;\"> 23.8525</td><td style=\"text-align: right;\">10.0115 </td><td style=\"text-align: right;\"> 5.07725</td><td style=\"text-align: right;\">    207.372</td><td style=\"text-align: right;\">   13.5243 </td><td style=\"text-align: right;\">    18.1059 </td><td style=\"text-align: right;\">           0</td><td style=\"text-align: right;\">           0</td><td style=\"text-align: right;\">           0</td><td style=\"text-align: right;\">           0</td><td style=\"text-align: right;\">          0</td><td style=\"text-align: right;\">          0</td><td style=\"text-align: right;\">          0</td><td style=\"text-align: right;\">          0</td><td style=\"text-align: right;\">    35.8953</td><td style=\"text-align: right;\">    92.3643</td><td style=\"text-align: right;\">          0</td><td style=\"text-align: right;\">          0</td><td style=\"text-align: right;\">  13.5243 </td><td style=\"text-align: right;\">    10.0233</td><td style=\"text-align: right;\">         0</td><td style=\"text-align: right;\">         0</td><td style=\"text-align: right;\">         0</td><td style=\"text-align: right;\">  37.1235 </td><td style=\"text-align: right;\">         0</td><td style=\"text-align: right;\">   88.9838</td><td style=\"text-align: right;\">         0</td><td style=\"text-align: right;\">  19.5725 </td><td style=\"text-align: right;\">    12.8416 </td><td style=\"text-align: right;\">            0</td><td style=\"text-align: right;\">     19.5725 </td><td style=\"text-align: right;\">            0</td><td style=\"text-align: right;\">     55.5154</td><td style=\"text-align: right;\">           0</td><td style=\"text-align: right;\">     6.92374</td><td style=\"text-align: right;\">    41.1373 </td><td style=\"text-align: right;\">     71.6255</td><td style=\"text-align: right;\">      0     </td><td style=\"text-align: right;\">           0</td><td style=\"text-align: right;\">           0</td><td style=\"text-align: right;\"> 70.08</td><td style=\"text-align: right;\">     16.0651 </td><td style=\"text-align: right;\">      13.5243 </td><td style=\"text-align: right;\">             0</td><td style=\"text-align: right;\">            0</td><td style=\"text-align: right;\">     19.5725 </td><td style=\"text-align: right;\">     47.6376 </td><td style=\"text-align: right;\">     12.8416 </td><td style=\"text-align: right;\">            0</td><td style=\"text-align: right;\">     49.3883 </td><td style=\"text-align: right;\">      4.89991</td><td style=\"text-align: right;\">            0</td><td style=\"text-align: right;\">            0</td><td style=\"text-align: right;\">             0</td><td style=\"text-align: right;\">            0</td><td style=\"text-align: right;\">            0</td><td style=\"text-align: right;\">            0</td><td style=\"text-align: right;\">            0</td><td style=\"text-align: right;\">            0</td><td style=\"text-align: right;\">            0</td><td style=\"text-align: right;\">            0</td><td style=\"text-align: right;\">      52.081 </td><td style=\"text-align: right;\">     0.357143 </td><td style=\"text-align: right;\">              35</td><td style=\"text-align: right;\">          1</td><td style=\"text-align: right;\">        1</td><td style=\"text-align: right;\">                        0</td><td style=\"text-align: right;\">                         0</td><td style=\"text-align: right;\">                  0</td><td style=\"text-align: right;\">                       1</td><td style=\"text-align: right;\">                        0</td><td style=\"text-align: right;\">                 1</td><td style=\"text-align: right;\">              1</td><td style=\"text-align: right;\">           1</td><td style=\"text-align: right;\">               7</td><td style=\"text-align: right;\">                  7</td><td style=\"text-align: right;\">                        0</td><td style=\"text-align: right;\">                         0</td><td style=\"text-align: right;\">                  0</td><td style=\"text-align: right;\">          1</td><td style=\"text-align: right;\">  4.51162</td><td style=\"text-align: right;\">136.336 </td><td style=\"text-align: right;\">          0</td><td style=\"text-align: right;\">         0</td><td style=\"text-align: right;\">                0</td><td style=\"text-align: right;\">       0</td><td style=\"text-align: right;\">          0</td><td style=\"text-align: right;\">        0</td><td style=\"text-align: right;\">         0</td><td style=\"text-align: right;\">         1</td><td style=\"text-align: right;\">       0</td><td style=\"text-align: right;\">        0</td><td style=\"text-align: right;\">       0</td><td style=\"text-align: right;\">             0</td><td style=\"text-align: right;\">       0</td><td style=\"text-align: right;\">         0</td><td style=\"text-align: right;\">         0</td><td style=\"text-align: right;\">       0</td><td style=\"text-align: right;\">       0</td><td style=\"text-align: right;\">       0</td><td style=\"text-align: right;\">       0</td><td style=\"text-align: right;\">                  0</td><td style=\"text-align: right;\">                  0</td><td style=\"text-align: right;\">             0</td><td style=\"text-align: right;\">      0</td><td style=\"text-align: right;\">            0</td><td style=\"text-align: right;\">                   0</td><td style=\"text-align: right;\">                0</td><td style=\"text-align: right;\">                0</td><td style=\"text-align: right;\">         0</td><td style=\"text-align: right;\">           0</td><td style=\"text-align: right;\">           0</td><td style=\"text-align: right;\">               1</td><td style=\"text-align: right;\">         0</td><td style=\"text-align: right;\">       0</td><td style=\"text-align: right;\">            0</td><td style=\"text-align: right;\">           1</td><td style=\"text-align: right;\">                  0</td><td style=\"text-align: right;\">            0</td><td style=\"text-align: right;\">         0</td><td style=\"text-align: right;\">                   0</td><td style=\"text-align: right;\">           0</td><td style=\"text-align: right;\">         0</td><td style=\"text-align: right;\">         0</td><td style=\"text-align: right;\">         0</td><td style=\"text-align: right;\">           0</td><td style=\"text-align: right;\">           0</td><td style=\"text-align: right;\">           0</td><td style=\"text-align: right;\">           0</td><td style=\"text-align: right;\">             0</td><td style=\"text-align: right;\">         0</td><td style=\"text-align: right;\">           0</td><td style=\"text-align: right;\">               0</td><td style=\"text-align: right;\">          0</td><td style=\"text-align: right;\">                  0</td><td style=\"text-align: right;\">          0</td><td style=\"text-align: right;\">           0</td><td style=\"text-align: right;\">           0</td><td style=\"text-align: right;\">              0</td><td style=\"text-align: right;\">           0</td><td style=\"text-align: right;\">         0</td><td style=\"text-align: right;\">              0</td><td style=\"text-align: right;\">                       0</td><td style=\"text-align: right;\">           0</td><td style=\"text-align: right;\">           0</td><td style=\"text-align: right;\">         0</td><td style=\"text-align: right;\">                      0</td><td style=\"text-align: right;\">          1</td><td style=\"text-align: right;\">                       1</td><td style=\"text-align: right;\">             0</td><td style=\"text-align: right;\">              0</td><td style=\"text-align: right;\">             0</td><td style=\"text-align: right;\">             0</td><td style=\"text-align: right;\">            0</td><td style=\"text-align: right;\">                0</td><td style=\"text-align: right;\">            0</td><td style=\"text-align: right;\">         0</td><td style=\"text-align: right;\">           0</td><td style=\"text-align: right;\">             0</td><td style=\"text-align: right;\">           0</td><td style=\"text-align: right;\">                  0</td><td style=\"text-align: right;\">             0</td><td style=\"text-align: right;\">            0</td><td style=\"text-align: right;\">            0</td><td style=\"text-align: right;\">             0</td><td style=\"text-align: right;\">                 0</td><td style=\"text-align: right;\">        0</td></tr>\n",
       "<tr><td style=\"text-align: right;\">8.22185</td><td>CC1=C(c2ccc(O)cc2)C(=O)c2ccc(O)cc21                      </td><td style=\"text-align: right;\">         -0.507966</td><td style=\"text-align: right;\">             0.194032</td><td style=\"text-align: right;\">                   94</td><td style=\"text-align: right;\">          0.194032</td><td style=\"text-align: right;\">        12.4018 </td><td style=\"text-align: right;\">                    0</td><td style=\"text-align: right;\">         0.0433428 </td><td style=\"text-align: right;\">      -0.0433428</td><td style=\"text-align: right;\">         240.173</td><td style=\"text-align: right;\">             0.507966</td><td style=\"text-align: right;\">     252.079</td><td style=\"text-align: right;\">252.269</td><td style=\"text-align: right;\">           12.4018 </td><td style=\"text-align: right;\">   2.18366</td><td style=\"text-align: right;\">  709.274</td><td style=\"text-align: right;\">13.5685</td><td style=\"text-align: right;\">10.3441 </td><td style=\"text-align: right;\">10.3441 </td><td style=\"text-align: right;\"> 9.07539</td><td style=\"text-align: right;\"> 5.96074</td><td style=\"text-align: right;\"> 5.96074</td><td style=\"text-align: right;\">4.60588</td><td style=\"text-align: right;\"> 4.60588</td><td style=\"text-align: right;\">3.40983</td><td style=\"text-align: right;\">3.40983</td><td style=\"text-align: right;\">2.45583</td><td style=\"text-align: right;\">2.45583</td><td style=\"text-align: right;\">       -2.55   </td><td style=\"text-align: right;\"> 28493.6        </td><td style=\"text-align: right;\"> 11.5353</td><td style=\"text-align: right;\"> 3.98565</td><td style=\"text-align: right;\"> 1.70819</td><td style=\"text-align: right;\">    110.003</td><td style=\"text-align: right;\">   15.0076 </td><td style=\"text-align: right;\">    11.499  </td><td style=\"text-align: right;\">           0</td><td style=\"text-align: right;\">           0</td><td style=\"text-align: right;\">           0</td><td style=\"text-align: right;\">           0</td><td style=\"text-align: right;\">          0</td><td style=\"text-align: right;\">          0</td><td style=\"text-align: right;\">          0</td><td style=\"text-align: right;\">          0</td><td style=\"text-align: right;\">    12.1327</td><td style=\"text-align: right;\">    53.9556</td><td style=\"text-align: right;\">          0</td><td style=\"text-align: right;\">          0</td><td style=\"text-align: right;\">  15.0076 </td><td style=\"text-align: right;\">    16.9295</td><td style=\"text-align: right;\">         0</td><td style=\"text-align: right;\">         0</td><td style=\"text-align: right;\">         0</td><td style=\"text-align: right;\">   6.92374</td><td style=\"text-align: right;\">         0</td><td style=\"text-align: right;\">   59.1549</td><td style=\"text-align: right;\">         0</td><td style=\"text-align: right;\">  11.1366 </td><td style=\"text-align: right;\">     6.06637</td><td style=\"text-align: right;\">            0</td><td style=\"text-align: right;\">     11.1366 </td><td style=\"text-align: right;\">            0</td><td style=\"text-align: right;\">     15.9963</td><td style=\"text-align: right;\">           0</td><td style=\"text-align: right;\">     0      </td><td style=\"text-align: right;\">    28.4086 </td><td style=\"text-align: right;\">     42.4646</td><td style=\"text-align: right;\">      0     </td><td style=\"text-align: right;\">           0</td><td style=\"text-align: right;\">           0</td><td style=\"text-align: right;\"> 57.53</td><td style=\"text-align: right;\">      0      </td><td style=\"text-align: right;\">      15.0076 </td><td style=\"text-align: right;\">             0</td><td style=\"text-align: right;\">            0</td><td style=\"text-align: right;\">     11.1366 </td><td style=\"text-align: right;\">     16.7    </td><td style=\"text-align: right;\">      6.06637</td><td style=\"text-align: right;\">            0</td><td style=\"text-align: right;\">      6.92374</td><td style=\"text-align: right;\">      0      </td><td style=\"text-align: right;\">            0</td><td style=\"text-align: right;\">            0</td><td style=\"text-align: right;\">             0</td><td style=\"text-align: right;\">            0</td><td style=\"text-align: right;\">            0</td><td style=\"text-align: right;\">            0</td><td style=\"text-align: right;\">            0</td><td style=\"text-align: right;\">            0</td><td style=\"text-align: right;\">            0</td><td style=\"text-align: right;\">            0</td><td style=\"text-align: right;\">      48.3333</td><td style=\"text-align: right;\">     0.0625   </td><td style=\"text-align: right;\">              19</td><td style=\"text-align: right;\">          2</td><td style=\"text-align: right;\">        2</td><td style=\"text-align: right;\">                        0</td><td style=\"text-align: right;\">                         0</td><td style=\"text-align: right;\">                  0</td><td style=\"text-align: right;\">                       2</td><td style=\"text-align: right;\">                        0</td><td style=\"text-align: right;\">                 2</td><td style=\"text-align: right;\">              2</td><td style=\"text-align: right;\">           2</td><td style=\"text-align: right;\">               3</td><td style=\"text-align: right;\">                  1</td><td style=\"text-align: right;\">                        0</td><td style=\"text-align: right;\">                         0</td><td style=\"text-align: right;\">                  0</td><td style=\"text-align: right;\">          2</td><td style=\"text-align: right;\">  3.2248 </td><td style=\"text-align: right;\"> 73.0321</td><td style=\"text-align: right;\">          0</td><td style=\"text-align: right;\">         0</td><td style=\"text-align: right;\">                0</td><td style=\"text-align: right;\">       0</td><td style=\"text-align: right;\">          0</td><td style=\"text-align: right;\">        0</td><td style=\"text-align: right;\">         0</td><td style=\"text-align: right;\">         2</td><td style=\"text-align: right;\">       0</td><td style=\"text-align: right;\">        0</td><td style=\"text-align: right;\">       0</td><td style=\"text-align: right;\">             0</td><td style=\"text-align: right;\">       0</td><td style=\"text-align: right;\">         0</td><td style=\"text-align: right;\">         0</td><td style=\"text-align: right;\">       0</td><td style=\"text-align: right;\">       0</td><td style=\"text-align: right;\">       0</td><td style=\"text-align: right;\">       0</td><td style=\"text-align: right;\">                  0</td><td style=\"text-align: right;\">                  0</td><td style=\"text-align: right;\">             0</td><td style=\"text-align: right;\">      0</td><td style=\"text-align: right;\">            0</td><td style=\"text-align: right;\">                   0</td><td style=\"text-align: right;\">                0</td><td style=\"text-align: right;\">                0</td><td style=\"text-align: right;\">         0</td><td style=\"text-align: right;\">           0</td><td style=\"text-align: right;\">           0</td><td style=\"text-align: right;\">               2</td><td style=\"text-align: right;\">         0</td><td style=\"text-align: right;\">       0</td><td style=\"text-align: right;\">            0</td><td style=\"text-align: right;\">           2</td><td style=\"text-align: right;\">                  0</td><td style=\"text-align: right;\">            0</td><td style=\"text-align: right;\">         0</td><td style=\"text-align: right;\">                   0</td><td style=\"text-align: right;\">           0</td><td style=\"text-align: right;\">         0</td><td style=\"text-align: right;\">         0</td><td style=\"text-align: right;\">         0</td><td style=\"text-align: right;\">           0</td><td style=\"text-align: right;\">           0</td><td style=\"text-align: right;\">           0</td><td style=\"text-align: right;\">           0</td><td style=\"text-align: right;\">             0</td><td style=\"text-align: right;\">         0</td><td style=\"text-align: right;\">           0</td><td style=\"text-align: right;\">               0</td><td style=\"text-align: right;\">          0</td><td style=\"text-align: right;\">                  0</td><td style=\"text-align: right;\">          0</td><td style=\"text-align: right;\">           0</td><td style=\"text-align: right;\">           0</td><td style=\"text-align: right;\">              0</td><td style=\"text-align: right;\">           0</td><td style=\"text-align: right;\">         0</td><td style=\"text-align: right;\">              0</td><td style=\"text-align: right;\">                       0</td><td style=\"text-align: right;\">           0</td><td style=\"text-align: right;\">           0</td><td style=\"text-align: right;\">         0</td><td style=\"text-align: right;\">                      0</td><td style=\"text-align: right;\">          2</td><td style=\"text-align: right;\">                       2</td><td style=\"text-align: right;\">             0</td><td style=\"text-align: right;\">              0</td><td style=\"text-align: right;\">             0</td><td style=\"text-align: right;\">             0</td><td style=\"text-align: right;\">            0</td><td style=\"text-align: right;\">                0</td><td style=\"text-align: right;\">            0</td><td style=\"text-align: right;\">         0</td><td style=\"text-align: right;\">           0</td><td style=\"text-align: right;\">             0</td><td style=\"text-align: right;\">           0</td><td style=\"text-align: right;\">                  0</td><td style=\"text-align: right;\">             0</td><td style=\"text-align: right;\">            0</td><td style=\"text-align: right;\">            0</td><td style=\"text-align: right;\">             0</td><td style=\"text-align: right;\">                 0</td><td style=\"text-align: right;\">        0</td></tr>\n",
       "<tr><td style=\"text-align: right;\">7.45593</td><td>Oc1ccc2c(c1)S[C@H](c1ccco1)[C@H](c1ccc(OCCN3CCCCC3)cc1)O2</td><td style=\"text-align: right;\">         -0.50792 </td><td style=\"text-align: right;\">             0.143093</td><td style=\"text-align: right;\">                  162</td><td style=\"text-align: right;\">          0.143093</td><td style=\"text-align: right;\">         9.86333</td><td style=\"text-align: right;\">                    0</td><td style=\"text-align: right;\">         0.046139  </td><td style=\"text-align: right;\">      -0.198525 </td><td style=\"text-align: right;\">         410.345</td><td style=\"text-align: right;\">             0.50792 </td><td style=\"text-align: right;\">     437.166</td><td style=\"text-align: right;\">437.561</td><td style=\"text-align: right;\">            9.86333</td><td style=\"text-align: right;\">   1.29417</td><td style=\"text-align: right;\">  983.266</td><td style=\"text-align: right;\">21.0454</td><td style=\"text-align: right;\">17.4054 </td><td style=\"text-align: right;\">18.2219 </td><td style=\"text-align: right;\">15.2592 </td><td style=\"text-align: right;\">10.91   </td><td style=\"text-align: right;\">11.7896 </td><td style=\"text-align: right;\">8.04316</td><td style=\"text-align: right;\"> 9.22656</td><td style=\"text-align: right;\">5.8673 </td><td style=\"text-align: right;\">7.1737 </td><td style=\"text-align: right;\">4.21599</td><td style=\"text-align: right;\">5.49722</td><td style=\"text-align: right;\">       -2.57   </td><td style=\"text-align: right;\">     2.70442e+07</td><td style=\"text-align: right;\"> 20.3392</td><td style=\"text-align: right;\"> 9.28399</td><td style=\"text-align: right;\"> 4.70065</td><td style=\"text-align: right;\">    186.517</td><td style=\"text-align: right;\">    5.10653</td><td style=\"text-align: right;\">    40.9696 </td><td style=\"text-align: right;\">           0</td><td style=\"text-align: right;\">           0</td><td style=\"text-align: right;\">           0</td><td style=\"text-align: right;\">           0</td><td style=\"text-align: right;\">          0</td><td style=\"text-align: right;\">          0</td><td style=\"text-align: right;\">          0</td><td style=\"text-align: right;\">          0</td><td style=\"text-align: right;\">    18.5536</td><td style=\"text-align: right;\">    73.9592</td><td style=\"text-align: right;\">          0</td><td style=\"text-align: right;\">          0</td><td style=\"text-align: right;\">   5.10653</td><td style=\"text-align: right;\">    11.7619</td><td style=\"text-align: right;\">         0</td><td style=\"text-align: right;\">         0</td><td style=\"text-align: right;\">         0</td><td style=\"text-align: right;\">  35.5119 </td><td style=\"text-align: right;\">         0</td><td style=\"text-align: right;\">   72.1842</td><td style=\"text-align: right;\">         0</td><td style=\"text-align: right;\">   6.60688</td><td style=\"text-align: right;\">    32.352  </td><td style=\"text-align: right;\">            0</td><td style=\"text-align: right;\">      6.60688</td><td style=\"text-align: right;\">            0</td><td style=\"text-align: right;\">     36.2476</td><td style=\"text-align: right;\">           0</td><td style=\"text-align: right;\">     0      </td><td style=\"text-align: right;\">    41.9401 </td><td style=\"text-align: right;\">     70.1731</td><td style=\"text-align: right;\">      0     </td><td style=\"text-align: right;\">           0</td><td style=\"text-align: right;\">           0</td><td style=\"text-align: right;\"> 55.07</td><td style=\"text-align: right;\">      0      </td><td style=\"text-align: right;\">       5.10653</td><td style=\"text-align: right;\">             0</td><td style=\"text-align: right;\">            0</td><td style=\"text-align: right;\">      6.60688</td><td style=\"text-align: right;\">     34.263  </td><td style=\"text-align: right;\">     32.352  </td><td style=\"text-align: right;\">            0</td><td style=\"text-align: right;\">     30.3318 </td><td style=\"text-align: right;\">     17.0326 </td><td style=\"text-align: right;\">            0</td><td style=\"text-align: right;\">            0</td><td style=\"text-align: right;\">             0</td><td style=\"text-align: right;\">            0</td><td style=\"text-align: right;\">            0</td><td style=\"text-align: right;\">            0</td><td style=\"text-align: right;\">            0</td><td style=\"text-align: right;\">            0</td><td style=\"text-align: right;\">            0</td><td style=\"text-align: right;\">            0</td><td style=\"text-align: right;\">      56.138 </td><td style=\"text-align: right;\">     0.36     </td><td style=\"text-align: right;\">              31</td><td style=\"text-align: right;\">          1</td><td style=\"text-align: right;\">        1</td><td style=\"text-align: right;\">                        0</td><td style=\"text-align: right;\">                         0</td><td style=\"text-align: right;\">                  0</td><td style=\"text-align: right;\">                       1</td><td style=\"text-align: right;\">                        0</td><td style=\"text-align: right;\">                 1</td><td style=\"text-align: right;\">              1</td><td style=\"text-align: right;\">           1</td><td style=\"text-align: right;\">               6</td><td style=\"text-align: right;\">                  6</td><td style=\"text-align: right;\">                        0</td><td style=\"text-align: right;\">                         0</td><td style=\"text-align: right;\">                  0</td><td style=\"text-align: right;\">          1</td><td style=\"text-align: right;\">  5.817  </td><td style=\"text-align: right;\">121.01  </td><td style=\"text-align: right;\">          0</td><td style=\"text-align: right;\">         0</td><td style=\"text-align: right;\">                0</td><td style=\"text-align: right;\">       0</td><td style=\"text-align: right;\">          0</td><td style=\"text-align: right;\">        0</td><td style=\"text-align: right;\">         0</td><td style=\"text-align: right;\">         1</td><td style=\"text-align: right;\">       0</td><td style=\"text-align: right;\">        0</td><td style=\"text-align: right;\">       0</td><td style=\"text-align: right;\">             0</td><td style=\"text-align: right;\">       0</td><td style=\"text-align: right;\">         0</td><td style=\"text-align: right;\">         0</td><td style=\"text-align: right;\">       0</td><td style=\"text-align: right;\">       0</td><td style=\"text-align: right;\">       0</td><td style=\"text-align: right;\">       0</td><td style=\"text-align: right;\">                  0</td><td style=\"text-align: right;\">                  0</td><td style=\"text-align: right;\">             0</td><td style=\"text-align: right;\">      0</td><td style=\"text-align: right;\">            0</td><td style=\"text-align: right;\">                   0</td><td style=\"text-align: right;\">                0</td><td style=\"text-align: right;\">                0</td><td style=\"text-align: right;\">         0</td><td style=\"text-align: right;\">           0</td><td style=\"text-align: right;\">           0</td><td style=\"text-align: right;\">               1</td><td style=\"text-align: right;\">         0</td><td style=\"text-align: right;\">       0</td><td style=\"text-align: right;\">            0</td><td style=\"text-align: right;\">           1</td><td style=\"text-align: right;\">                  0</td><td style=\"text-align: right;\">            0</td><td style=\"text-align: right;\">         0</td><td style=\"text-align: right;\">                   0</td><td style=\"text-align: right;\">           0</td><td style=\"text-align: right;\">         0</td><td style=\"text-align: right;\">         0</td><td style=\"text-align: right;\">         0</td><td style=\"text-align: right;\">           0</td><td style=\"text-align: right;\">           0</td><td style=\"text-align: right;\">           0</td><td style=\"text-align: right;\">           0</td><td style=\"text-align: right;\">             0</td><td style=\"text-align: right;\">         0</td><td style=\"text-align: right;\">           0</td><td style=\"text-align: right;\">               0</td><td style=\"text-align: right;\">          0</td><td style=\"text-align: right;\">                  0</td><td style=\"text-align: right;\">          0</td><td style=\"text-align: right;\">           0</td><td style=\"text-align: right;\">           0</td><td style=\"text-align: right;\">              0</td><td style=\"text-align: right;\">           0</td><td style=\"text-align: right;\">         0</td><td style=\"text-align: right;\">              0</td><td style=\"text-align: right;\">                       0</td><td style=\"text-align: right;\">           0</td><td style=\"text-align: right;\">           0</td><td style=\"text-align: right;\">         0</td><td style=\"text-align: right;\">                      0</td><td style=\"text-align: right;\">          1</td><td style=\"text-align: right;\">                       1</td><td style=\"text-align: right;\">             0</td><td style=\"text-align: right;\">              0</td><td style=\"text-align: right;\">             0</td><td style=\"text-align: right;\">             0</td><td style=\"text-align: right;\">            0</td><td style=\"text-align: right;\">                0</td><td style=\"text-align: right;\">            0</td><td style=\"text-align: right;\">         0</td><td style=\"text-align: right;\">           0</td><td style=\"text-align: right;\">             0</td><td style=\"text-align: right;\">           0</td><td style=\"text-align: right;\">                  0</td><td style=\"text-align: right;\">             0</td><td style=\"text-align: right;\">            0</td><td style=\"text-align: right;\">            0</td><td style=\"text-align: right;\">             0</td><td style=\"text-align: right;\">                 0</td><td style=\"text-align: right;\">        0</td></tr>\n",
       "<tr><td style=\"text-align: right;\">5.89963</td><td>O=c1c2oc3c(Br)cc(O)cc3c2oc2cc(O)cc(O)c12                 </td><td style=\"text-align: right;\">         -0.507895</td><td style=\"text-align: right;\">             0.239157</td><td style=\"text-align: right;\">                  110</td><td style=\"text-align: right;\">          0.239157</td><td style=\"text-align: right;\">        12.5128 </td><td style=\"text-align: right;\">                    0</td><td style=\"text-align: right;\">         0.0244657 </td><td style=\"text-align: right;\">      -0.558945 </td><td style=\"text-align: right;\">         356.063</td><td style=\"text-align: right;\">             0.507895</td><td style=\"text-align: right;\">     361.943</td><td style=\"text-align: right;\">363.119</td><td style=\"text-align: right;\">           12.5128 </td><td style=\"text-align: right;\">   2.32832</td><td style=\"text-align: right;\"> 1138.09 </td><td style=\"text-align: right;\">15.5935</td><td style=\"text-align: right;\">10.7538 </td><td style=\"text-align: right;\">12.3397 </td><td style=\"text-align: right;\">10.4524 </td><td style=\"text-align: right;\"> 6.18982</td><td style=\"text-align: right;\"> 6.98282</td><td style=\"text-align: right;\">4.83381</td><td style=\"text-align: right;\"> 5.68814</td><td style=\"text-align: right;\">3.39478</td><td style=\"text-align: right;\">3.98381</td><td style=\"text-align: right;\">2.49185</td><td style=\"text-align: right;\">3.02092</td><td style=\"text-align: right;\">       -2.67   </td><td style=\"text-align: right;\">133822          </td><td style=\"text-align: right;\"> 13.025 </td><td style=\"text-align: right;\"> 4.17089</td><td style=\"text-align: right;\"> 1.6249 </td><td style=\"text-align: right;\">    129.487</td><td style=\"text-align: right;\">   20.1141 </td><td style=\"text-align: right;\">    28.2178 </td><td style=\"text-align: right;\">           0</td><td style=\"text-align: right;\">           0</td><td style=\"text-align: right;\">           0</td><td style=\"text-align: right;\">           0</td><td style=\"text-align: right;\">          0</td><td style=\"text-align: right;\">          0</td><td style=\"text-align: right;\">          0</td><td style=\"text-align: right;\">          0</td><td style=\"text-align: right;\">     0     </td><td style=\"text-align: right;\">    28.0627</td><td style=\"text-align: right;\">          0</td><td style=\"text-align: right;\">          0</td><td style=\"text-align: right;\">  20.1141 </td><td style=\"text-align: right;\">    49.0345</td><td style=\"text-align: right;\">         0</td><td style=\"text-align: right;\">         0</td><td style=\"text-align: right;\">         0</td><td style=\"text-align: right;\">   0      </td><td style=\"text-align: right;\">         0</td><td style=\"text-align: right;\">   38.9615</td><td style=\"text-align: right;\">         0</td><td style=\"text-align: right;\">  15.442  </td><td style=\"text-align: right;\">    18.1991 </td><td style=\"text-align: right;\">            0</td><td style=\"text-align: right;\">     15.442  </td><td style=\"text-align: right;\">            0</td><td style=\"text-align: right;\">     15.3196</td><td style=\"text-align: right;\">           0</td><td style=\"text-align: right;\">     0      </td><td style=\"text-align: right;\">     0      </td><td style=\"text-align: right;\">     42.367 </td><td style=\"text-align: right;\">      0     </td><td style=\"text-align: right;\">           0</td><td style=\"text-align: right;\">           0</td><td style=\"text-align: right;\">104.04</td><td style=\"text-align: right;\">     11.1783 </td><td style=\"text-align: right;\">      20.1141 </td><td style=\"text-align: right;\">             0</td><td style=\"text-align: right;\">            0</td><td style=\"text-align: right;\">     15.442  </td><td style=\"text-align: right;\">      6.06637</td><td style=\"text-align: right;\">     18.1991 </td><td style=\"text-align: right;\">            0</td><td style=\"text-align: right;\">      0      </td><td style=\"text-align: right;\">     15.9299 </td><td style=\"text-align: right;\">            0</td><td style=\"text-align: right;\">            0</td><td style=\"text-align: right;\">             0</td><td style=\"text-align: right;\">            0</td><td style=\"text-align: right;\">            0</td><td style=\"text-align: right;\">            0</td><td style=\"text-align: right;\">            0</td><td style=\"text-align: right;\">            0</td><td style=\"text-align: right;\">            0</td><td style=\"text-align: right;\">            0</td><td style=\"text-align: right;\">      46.245 </td><td style=\"text-align: right;\">     0        </td><td style=\"text-align: right;\">              22</td><td style=\"text-align: right;\">          3</td><td style=\"text-align: right;\">        3</td><td style=\"text-align: right;\">                        0</td><td style=\"text-align: right;\">                         0</td><td style=\"text-align: right;\">                  0</td><td style=\"text-align: right;\">                       3</td><td style=\"text-align: right;\">                        0</td><td style=\"text-align: right;\">                 3</td><td style=\"text-align: right;\">              3</td><td style=\"text-align: right;\">           3</td><td style=\"text-align: right;\">               7</td><td style=\"text-align: right;\">                  0</td><td style=\"text-align: right;\">                        0</td><td style=\"text-align: right;\">                         0</td><td style=\"text-align: right;\">                  0</td><td style=\"text-align: right;\">          3</td><td style=\"text-align: right;\">  3.5717 </td><td style=\"text-align: right;\"> 82.4564</td><td style=\"text-align: right;\">          0</td><td style=\"text-align: right;\">         0</td><td style=\"text-align: right;\">                0</td><td style=\"text-align: right;\">       0</td><td style=\"text-align: right;\">          0</td><td style=\"text-align: right;\">        0</td><td style=\"text-align: right;\">         0</td><td style=\"text-align: right;\">         3</td><td style=\"text-align: right;\">       0</td><td style=\"text-align: right;\">        0</td><td style=\"text-align: right;\">       0</td><td style=\"text-align: right;\">             0</td><td style=\"text-align: right;\">       0</td><td style=\"text-align: right;\">         0</td><td style=\"text-align: right;\">         0</td><td style=\"text-align: right;\">       0</td><td style=\"text-align: right;\">       0</td><td style=\"text-align: right;\">       0</td><td style=\"text-align: right;\">       0</td><td style=\"text-align: right;\">                  0</td><td style=\"text-align: right;\">                  0</td><td style=\"text-align: right;\">             0</td><td style=\"text-align: right;\">      0</td><td style=\"text-align: right;\">            0</td><td style=\"text-align: right;\">                   0</td><td style=\"text-align: right;\">                0</td><td style=\"text-align: right;\">                0</td><td style=\"text-align: right;\">         0</td><td style=\"text-align: right;\">           0</td><td style=\"text-align: right;\">           0</td><td style=\"text-align: right;\">               3</td><td style=\"text-align: right;\">         0</td><td style=\"text-align: right;\">       0</td><td style=\"text-align: right;\">            0</td><td style=\"text-align: right;\">           3</td><td style=\"text-align: right;\">                  0</td><td style=\"text-align: right;\">            0</td><td style=\"text-align: right;\">         0</td><td style=\"text-align: right;\">                   0</td><td style=\"text-align: right;\">           0</td><td style=\"text-align: right;\">         0</td><td style=\"text-align: right;\">         0</td><td style=\"text-align: right;\">         0</td><td style=\"text-align: right;\">           0</td><td style=\"text-align: right;\">           0</td><td style=\"text-align: right;\">           0</td><td style=\"text-align: right;\">           0</td><td style=\"text-align: right;\">             0</td><td style=\"text-align: right;\">         0</td><td style=\"text-align: right;\">           0</td><td style=\"text-align: right;\">               0</td><td style=\"text-align: right;\">          0</td><td style=\"text-align: right;\">                  0</td><td style=\"text-align: right;\">          0</td><td style=\"text-align: right;\">           0</td><td style=\"text-align: right;\">           0</td><td style=\"text-align: right;\">              0</td><td style=\"text-align: right;\">           0</td><td style=\"text-align: right;\">         0</td><td style=\"text-align: right;\">              0</td><td style=\"text-align: right;\">                       0</td><td style=\"text-align: right;\">           0</td><td style=\"text-align: right;\">           0</td><td style=\"text-align: right;\">         0</td><td style=\"text-align: right;\">                      0</td><td style=\"text-align: right;\">          3</td><td style=\"text-align: right;\">                       3</td><td style=\"text-align: right;\">             0</td><td style=\"text-align: right;\">              0</td><td style=\"text-align: right;\">             0</td><td style=\"text-align: right;\">             0</td><td style=\"text-align: right;\">            0</td><td style=\"text-align: right;\">                0</td><td style=\"text-align: right;\">            0</td><td style=\"text-align: right;\">         0</td><td style=\"text-align: right;\">           0</td><td style=\"text-align: right;\">             0</td><td style=\"text-align: right;\">           0</td><td style=\"text-align: right;\">                  0</td><td style=\"text-align: right;\">             0</td><td style=\"text-align: right;\">            0</td><td style=\"text-align: right;\">            0</td><td style=\"text-align: right;\">             0</td><td style=\"text-align: right;\">                 0</td><td style=\"text-align: right;\">        0</td></tr>\n",
       "<tr><td style=\"text-align: right;\">5.76271</td><td>Oc1ccc2c(-c3cccc4ccc(O)cc34)noc2c1                       </td><td style=\"text-align: right;\">         -0.507943</td><td style=\"text-align: right;\">             0.170701</td><td style=\"text-align: right;\">                  102</td><td style=\"text-align: right;\">          0.170701</td><td style=\"text-align: right;\">         9.72498</td><td style=\"text-align: right;\">                    0</td><td style=\"text-align: right;\">         0.139596  </td><td style=\"text-align: right;\">       0.139596 </td><td style=\"text-align: right;\">         266.191</td><td style=\"text-align: right;\">             0.507943</td><td style=\"text-align: right;\">     277.074</td><td style=\"text-align: right;\">277.279</td><td style=\"text-align: right;\">            9.72498</td><td style=\"text-align: right;\">   2.06344</td><td style=\"text-align: right;\">  972.269</td><td style=\"text-align: right;\">14.397 </td><td style=\"text-align: right;\">10.946  </td><td style=\"text-align: right;\">10.946  </td><td style=\"text-align: right;\">10.2203 </td><td style=\"text-align: right;\"> 6.5276 </td><td style=\"text-align: right;\"> 6.5276 </td><td style=\"text-align: right;\">4.92266</td><td style=\"text-align: right;\"> 4.92266</td><td style=\"text-align: right;\">3.57644</td><td style=\"text-align: right;\">3.57644</td><td style=\"text-align: right;\">2.58757</td><td style=\"text-align: right;\">2.58757</td><td style=\"text-align: right;\">       -3.01   </td><td style=\"text-align: right;\">126582          </td><td style=\"text-align: right;\"> 11.7867</td><td style=\"text-align: right;\"> 4.24484</td><td style=\"text-align: right;\"> 1.80497</td><td style=\"text-align: right;\">    119.406</td><td style=\"text-align: right;\">   10.2131 </td><td style=\"text-align: right;\">    17.193  </td><td style=\"text-align: right;\">           0</td><td style=\"text-align: right;\">           0</td><td style=\"text-align: right;\">           0</td><td style=\"text-align: right;\">           0</td><td style=\"text-align: right;\">          0</td><td style=\"text-align: right;\">          0</td><td style=\"text-align: right;\">          0</td><td style=\"text-align: right;\">          0</td><td style=\"text-align: right;\">    29.4221</td><td style=\"text-align: right;\">    35.0379</td><td style=\"text-align: right;\">          0</td><td style=\"text-align: right;\">          0</td><td style=\"text-align: right;\">  10.2131 </td><td style=\"text-align: right;\">    21.7417</td><td style=\"text-align: right;\">         0</td><td style=\"text-align: right;\">         0</td><td style=\"text-align: right;\">         0</td><td style=\"text-align: right;\">   0      </td><td style=\"text-align: right;\">         0</td><td style=\"text-align: right;\">   54.5973</td><td style=\"text-align: right;\">         0</td><td style=\"text-align: right;\">  11.2769 </td><td style=\"text-align: right;\">     6.06637</td><td style=\"text-align: right;\">            0</td><td style=\"text-align: right;\">     11.2769 </td><td style=\"text-align: right;\">            0</td><td style=\"text-align: right;\">     15.3697</td><td style=\"text-align: right;\">           0</td><td style=\"text-align: right;\">     0      </td><td style=\"text-align: right;\">     0      </td><td style=\"text-align: right;\">     59.1204</td><td style=\"text-align: right;\">      0     </td><td style=\"text-align: right;\">           0</td><td style=\"text-align: right;\">           0</td><td style=\"text-align: right;\"> 66.49</td><td style=\"text-align: right;\">      0      </td><td style=\"text-align: right;\">      10.2131 </td><td style=\"text-align: right;\">             0</td><td style=\"text-align: right;\">            0</td><td style=\"text-align: right;\">     11.2769 </td><td style=\"text-align: right;\">     21.7221 </td><td style=\"text-align: right;\">      6.06637</td><td style=\"text-align: right;\">            0</td><td style=\"text-align: right;\">     24.2655 </td><td style=\"text-align: right;\">      5.15666</td><td style=\"text-align: right;\">            0</td><td style=\"text-align: right;\">            0</td><td style=\"text-align: right;\">             0</td><td style=\"text-align: right;\">            0</td><td style=\"text-align: right;\">            0</td><td style=\"text-align: right;\">            0</td><td style=\"text-align: right;\">            0</td><td style=\"text-align: right;\">            0</td><td style=\"text-align: right;\">            0</td><td style=\"text-align: right;\">            0</td><td style=\"text-align: right;\">      44.5424</td><td style=\"text-align: right;\">     0        </td><td style=\"text-align: right;\">              21</td><td style=\"text-align: right;\">          2</td><td style=\"text-align: right;\">        2</td><td style=\"text-align: right;\">                        0</td><td style=\"text-align: right;\">                         0</td><td style=\"text-align: right;\">                  0</td><td style=\"text-align: right;\">                       2</td><td style=\"text-align: right;\">                        0</td><td style=\"text-align: right;\">                 2</td><td style=\"text-align: right;\">              2</td><td style=\"text-align: right;\">           2</td><td style=\"text-align: right;\">               4</td><td style=\"text-align: right;\">                  1</td><td style=\"text-align: right;\">                        0</td><td style=\"text-align: right;\">                         0</td><td style=\"text-align: right;\">                  0</td><td style=\"text-align: right;\">          2</td><td style=\"text-align: right;\">  4.0592 </td><td style=\"text-align: right;\"> 80.2806</td><td style=\"text-align: right;\">          0</td><td style=\"text-align: right;\">         0</td><td style=\"text-align: right;\">                0</td><td style=\"text-align: right;\">       0</td><td style=\"text-align: right;\">          0</td><td style=\"text-align: right;\">        0</td><td style=\"text-align: right;\">         0</td><td style=\"text-align: right;\">         2</td><td style=\"text-align: right;\">       0</td><td style=\"text-align: right;\">        0</td><td style=\"text-align: right;\">       0</td><td style=\"text-align: right;\">             0</td><td style=\"text-align: right;\">       0</td><td style=\"text-align: right;\">         0</td><td style=\"text-align: right;\">         0</td><td style=\"text-align: right;\">       0</td><td style=\"text-align: right;\">       0</td><td style=\"text-align: right;\">       0</td><td style=\"text-align: right;\">       0</td><td style=\"text-align: right;\">                  0</td><td style=\"text-align: right;\">                  0</td><td style=\"text-align: right;\">             0</td><td style=\"text-align: right;\">      0</td><td style=\"text-align: right;\">            0</td><td style=\"text-align: right;\">                   0</td><td style=\"text-align: right;\">                0</td><td style=\"text-align: right;\">                0</td><td style=\"text-align: right;\">         0</td><td style=\"text-align: right;\">           0</td><td style=\"text-align: right;\">           0</td><td style=\"text-align: right;\">               2</td><td style=\"text-align: right;\">         0</td><td style=\"text-align: right;\">       0</td><td style=\"text-align: right;\">            0</td><td style=\"text-align: right;\">           2</td><td style=\"text-align: right;\">                  0</td><td style=\"text-align: right;\">            0</td><td style=\"text-align: right;\">         0</td><td style=\"text-align: right;\">                   0</td><td style=\"text-align: right;\">           0</td><td style=\"text-align: right;\">         0</td><td style=\"text-align: right;\">         0</td><td style=\"text-align: right;\">         0</td><td style=\"text-align: right;\">           0</td><td style=\"text-align: right;\">           0</td><td style=\"text-align: right;\">           0</td><td style=\"text-align: right;\">           0</td><td style=\"text-align: right;\">             0</td><td style=\"text-align: right;\">         0</td><td style=\"text-align: right;\">           0</td><td style=\"text-align: right;\">               0</td><td style=\"text-align: right;\">          0</td><td style=\"text-align: right;\">                  0</td><td style=\"text-align: right;\">          0</td><td style=\"text-align: right;\">           0</td><td style=\"text-align: right;\">           0</td><td style=\"text-align: right;\">              0</td><td style=\"text-align: right;\">           0</td><td style=\"text-align: right;\">         0</td><td style=\"text-align: right;\">              0</td><td style=\"text-align: right;\">                       0</td><td style=\"text-align: right;\">           0</td><td style=\"text-align: right;\">           0</td><td style=\"text-align: right;\">         0</td><td style=\"text-align: right;\">                      0</td><td style=\"text-align: right;\">          2</td><td style=\"text-align: right;\">                       2</td><td style=\"text-align: right;\">             0</td><td style=\"text-align: right;\">              0</td><td style=\"text-align: right;\">             0</td><td style=\"text-align: right;\">             0</td><td style=\"text-align: right;\">            0</td><td style=\"text-align: right;\">                0</td><td style=\"text-align: right;\">            0</td><td style=\"text-align: right;\">         0</td><td style=\"text-align: right;\">           0</td><td style=\"text-align: right;\">             0</td><td style=\"text-align: right;\">           0</td><td style=\"text-align: right;\">                  0</td><td style=\"text-align: right;\">             0</td><td style=\"text-align: right;\">            0</td><td style=\"text-align: right;\">            0</td><td style=\"text-align: right;\">             0</td><td style=\"text-align: right;\">                 0</td><td style=\"text-align: right;\">        0</td></tr>\n",
       "<tr><td style=\"text-align: right;\">6.9431 </td><td>Cc1cc(O)cc2cc(-c3ccc(O)cc3)oc12                          </td><td style=\"text-align: right;\">         -0.507966</td><td style=\"text-align: right;\">             0.137489</td><td style=\"text-align: right;\">                   90</td><td style=\"text-align: right;\">          0.137489</td><td style=\"text-align: right;\">         9.55257</td><td style=\"text-align: right;\">                    0</td><td style=\"text-align: right;\">         0.225635  </td><td style=\"text-align: right;\">       0.225635 </td><td style=\"text-align: right;\">         228.162</td><td style=\"text-align: right;\">             0.507966</td><td style=\"text-align: right;\">     240.079</td><td style=\"text-align: right;\">240.258</td><td style=\"text-align: right;\">            9.55257</td><td style=\"text-align: right;\">   2.1887 </td><td style=\"text-align: right;\">  708.432</td><td style=\"text-align: right;\">12.6983</td><td style=\"text-align: right;\"> 9.84413</td><td style=\"text-align: right;\"> 9.84413</td><td style=\"text-align: right;\"> 8.63103</td><td style=\"text-align: right;\"> 5.65888</td><td style=\"text-align: right;\"> 5.65888</td><td style=\"text-align: right;\">4.33854</td><td style=\"text-align: right;\"> 4.33854</td><td style=\"text-align: right;\">2.93856</td><td style=\"text-align: right;\">2.93856</td><td style=\"text-align: right;\">2.07682</td><td style=\"text-align: right;\">2.07682</td><td style=\"text-align: right;\">       -2.42   </td><td style=\"text-align: right;\"> 19612.1        </td><td style=\"text-align: right;\"> 10.7163</td><td style=\"text-align: right;\"> 3.80581</td><td style=\"text-align: right;\"> 1.69765</td><td style=\"text-align: right;\">    103.918</td><td style=\"text-align: right;\">   10.2131 </td><td style=\"text-align: right;\">    22.8423 </td><td style=\"text-align: right;\">           0</td><td style=\"text-align: right;\">           0</td><td style=\"text-align: right;\">           0</td><td style=\"text-align: right;\">           0</td><td style=\"text-align: right;\">          0</td><td style=\"text-align: right;\">          0</td><td style=\"text-align: right;\">          0</td><td style=\"text-align: right;\">          0</td><td style=\"text-align: right;\">     0     </td><td style=\"text-align: right;\">    54.9518</td><td style=\"text-align: right;\">          0</td><td style=\"text-align: right;\">          0</td><td style=\"text-align: right;\">  10.2131 </td><td style=\"text-align: right;\">    10.9692</td><td style=\"text-align: right;\">         0</td><td style=\"text-align: right;\">         0</td><td style=\"text-align: right;\">         0</td><td style=\"text-align: right;\">   6.92374</td><td style=\"text-align: right;\">         0</td><td style=\"text-align: right;\">   48.028 </td><td style=\"text-align: right;\">         0</td><td style=\"text-align: right;\">   0      </td><td style=\"text-align: right;\">     0      </td><td style=\"text-align: right;\">            0</td><td style=\"text-align: right;\">      0      </td><td style=\"text-align: right;\">            0</td><td style=\"text-align: right;\">     10.2131</td><td style=\"text-align: right;\">           0</td><td style=\"text-align: right;\">     6.92374</td><td style=\"text-align: right;\">     5.56345</td><td style=\"text-align: right;\">     46.8817</td><td style=\"text-align: right;\">      0     </td><td style=\"text-align: right;\">           0</td><td style=\"text-align: right;\">           0</td><td style=\"text-align: right;\"> 53.6 </td><td style=\"text-align: right;\">      0      </td><td style=\"text-align: right;\">      10.2131 </td><td style=\"text-align: right;\">             0</td><td style=\"text-align: right;\">            0</td><td style=\"text-align: right;\">      0      </td><td style=\"text-align: right;\">     27.8564 </td><td style=\"text-align: right;\">      0      </td><td style=\"text-align: right;\">            0</td><td style=\"text-align: right;\">     12.9901 </td><td style=\"text-align: right;\">      0      </td><td style=\"text-align: right;\">            0</td><td style=\"text-align: right;\">            0</td><td style=\"text-align: right;\">             0</td><td style=\"text-align: right;\">            0</td><td style=\"text-align: right;\">            0</td><td style=\"text-align: right;\">            0</td><td style=\"text-align: right;\">            0</td><td style=\"text-align: right;\">            0</td><td style=\"text-align: right;\">            0</td><td style=\"text-align: right;\">            0</td><td style=\"text-align: right;\">      37.3797</td><td style=\"text-align: right;\">     0.0666667</td><td style=\"text-align: right;\">              18</td><td style=\"text-align: right;\">          2</td><td style=\"text-align: right;\">        2</td><td style=\"text-align: right;\">                        0</td><td style=\"text-align: right;\">                         0</td><td style=\"text-align: right;\">                  0</td><td style=\"text-align: right;\">                       2</td><td style=\"text-align: right;\">                        0</td><td style=\"text-align: right;\">                 2</td><td style=\"text-align: right;\">              2</td><td style=\"text-align: right;\">           2</td><td style=\"text-align: right;\">               3</td><td style=\"text-align: right;\">                  1</td><td style=\"text-align: right;\">                        0</td><td style=\"text-align: right;\">                         0</td><td style=\"text-align: right;\">                  0</td><td style=\"text-align: right;\">          2</td><td style=\"text-align: right;\">  3.81942</td><td style=\"text-align: right;\"> 69.7166</td><td style=\"text-align: right;\">          0</td><td style=\"text-align: right;\">         0</td><td style=\"text-align: right;\">                0</td><td style=\"text-align: right;\">       0</td><td style=\"text-align: right;\">          0</td><td style=\"text-align: right;\">        0</td><td style=\"text-align: right;\">         0</td><td style=\"text-align: right;\">         2</td><td style=\"text-align: right;\">       0</td><td style=\"text-align: right;\">        0</td><td style=\"text-align: right;\">       0</td><td style=\"text-align: right;\">             0</td><td style=\"text-align: right;\">       0</td><td style=\"text-align: right;\">         0</td><td style=\"text-align: right;\">         0</td><td style=\"text-align: right;\">       0</td><td style=\"text-align: right;\">       0</td><td style=\"text-align: right;\">       0</td><td style=\"text-align: right;\">       0</td><td style=\"text-align: right;\">                  0</td><td style=\"text-align: right;\">                  0</td><td style=\"text-align: right;\">             0</td><td style=\"text-align: right;\">      0</td><td style=\"text-align: right;\">            0</td><td style=\"text-align: right;\">                   0</td><td style=\"text-align: right;\">                0</td><td style=\"text-align: right;\">                0</td><td style=\"text-align: right;\">         0</td><td style=\"text-align: right;\">           0</td><td style=\"text-align: right;\">           0</td><td style=\"text-align: right;\">               2</td><td style=\"text-align: right;\">         0</td><td style=\"text-align: right;\">       0</td><td style=\"text-align: right;\">            0</td><td style=\"text-align: right;\">           2</td><td style=\"text-align: right;\">                  0</td><td style=\"text-align: right;\">            0</td><td style=\"text-align: right;\">         0</td><td style=\"text-align: right;\">                   0</td><td style=\"text-align: right;\">           0</td><td style=\"text-align: right;\">         0</td><td style=\"text-align: right;\">         0</td><td style=\"text-align: right;\">         0</td><td style=\"text-align: right;\">           0</td><td style=\"text-align: right;\">           0</td><td style=\"text-align: right;\">           0</td><td style=\"text-align: right;\">           0</td><td style=\"text-align: right;\">             0</td><td style=\"text-align: right;\">         0</td><td style=\"text-align: right;\">           0</td><td style=\"text-align: right;\">               0</td><td style=\"text-align: right;\">          0</td><td style=\"text-align: right;\">                  0</td><td style=\"text-align: right;\">          0</td><td style=\"text-align: right;\">           0</td><td style=\"text-align: right;\">           0</td><td style=\"text-align: right;\">              0</td><td style=\"text-align: right;\">           0</td><td style=\"text-align: right;\">         0</td><td style=\"text-align: right;\">              0</td><td style=\"text-align: right;\">                       0</td><td style=\"text-align: right;\">           0</td><td style=\"text-align: right;\">           0</td><td style=\"text-align: right;\">         0</td><td style=\"text-align: right;\">                      0</td><td style=\"text-align: right;\">          2</td><td style=\"text-align: right;\">                       2</td><td style=\"text-align: right;\">             0</td><td style=\"text-align: right;\">              0</td><td style=\"text-align: right;\">             0</td><td style=\"text-align: right;\">             0</td><td style=\"text-align: right;\">            0</td><td style=\"text-align: right;\">                0</td><td style=\"text-align: right;\">            0</td><td style=\"text-align: right;\">         0</td><td style=\"text-align: right;\">           0</td><td style=\"text-align: right;\">             0</td><td style=\"text-align: right;\">           0</td><td style=\"text-align: right;\">                  0</td><td style=\"text-align: right;\">             0</td><td style=\"text-align: right;\">            0</td><td style=\"text-align: right;\">            0</td><td style=\"text-align: right;\">             0</td><td style=\"text-align: right;\">                 0</td><td style=\"text-align: right;\">        0</td></tr>\n",
       "<tr><td style=\"text-align: right;\">6.27819</td><td>C=Cc1cc(O)cc2ccc(-c3ccc(O)c(F)c3)cc12                    </td><td style=\"text-align: right;\">         -0.507921</td><td style=\"text-align: right;\">             0.164917</td><td style=\"text-align: right;\">                  104</td><td style=\"text-align: right;\">          0.164917</td><td style=\"text-align: right;\">        13.4779 </td><td style=\"text-align: right;\">                    0</td><td style=\"text-align: right;\">         0.181322  </td><td style=\"text-align: right;\">      -0.650697 </td><td style=\"text-align: right;\">         267.194</td><td style=\"text-align: right;\">             0.507921</td><td style=\"text-align: right;\">     280.09 </td><td style=\"text-align: right;\">280.298</td><td style=\"text-align: right;\">           13.4779 </td><td style=\"text-align: right;\">   2.22336</td><td style=\"text-align: right;\">  853.206</td><td style=\"text-align: right;\">14.9828</td><td style=\"text-align: right;\">11.1757 </td><td style=\"text-align: right;\">11.1757 </td><td style=\"text-align: right;\">10.0797 </td><td style=\"text-align: right;\"> 6.46389</td><td style=\"text-align: right;\"> 6.46389</td><td style=\"text-align: right;\">4.84123</td><td style=\"text-align: right;\"> 4.84123</td><td style=\"text-align: right;\">3.472  </td><td style=\"text-align: right;\">3.472  </td><td style=\"text-align: right;\">2.40511</td><td style=\"text-align: right;\">2.40511</td><td style=\"text-align: right;\">       -2.81   </td><td style=\"text-align: right;\"> 69404.7        </td><td style=\"text-align: right;\"> 13.186 </td><td style=\"text-align: right;\"> 4.9436 </td><td style=\"text-align: right;\"> 2.3378 </td><td style=\"text-align: right;\">    120.964</td><td style=\"text-align: right;\">   14.6035 </td><td style=\"text-align: right;\">     5.74951</td><td style=\"text-align: right;\">           0</td><td style=\"text-align: right;\">           0</td><td style=\"text-align: right;\">           0</td><td style=\"text-align: right;\">           0</td><td style=\"text-align: right;\">          0</td><td style=\"text-align: right;\">          0</td><td style=\"text-align: right;\">          0</td><td style=\"text-align: right;\">          0</td><td style=\"text-align: right;\">    30.8541</td><td style=\"text-align: right;\">    57.7946</td><td style=\"text-align: right;\">          0</td><td style=\"text-align: right;\">          0</td><td style=\"text-align: right;\">  14.6035 </td><td style=\"text-align: right;\">    16.8485</td><td style=\"text-align: right;\">         0</td><td style=\"text-align: right;\">         0</td><td style=\"text-align: right;\">         0</td><td style=\"text-align: right;\">   0      </td><td style=\"text-align: right;\">         0</td><td style=\"text-align: right;\">   66.4905</td><td style=\"text-align: right;\">         0</td><td style=\"text-align: right;\">   5.56345</td><td style=\"text-align: right;\">    12.1327 </td><td style=\"text-align: right;\">            0</td><td style=\"text-align: right;\">      5.56345</td><td style=\"text-align: right;\">            0</td><td style=\"text-align: right;\">     10.2131</td><td style=\"text-align: right;\">           0</td><td style=\"text-align: right;\">     5.81722</td><td style=\"text-align: right;\">     5.56345</td><td style=\"text-align: right;\">     55.1099</td><td style=\"text-align: right;\">      0     </td><td style=\"text-align: right;\">           0</td><td style=\"text-align: right;\">           0</td><td style=\"text-align: right;\"> 40.46</td><td style=\"text-align: right;\">      5.81722</td><td style=\"text-align: right;\">      14.6035 </td><td style=\"text-align: right;\">             0</td><td style=\"text-align: right;\">            0</td><td style=\"text-align: right;\">      5.56345</td><td style=\"text-align: right;\">     21.8994 </td><td style=\"text-align: right;\">     12.1327 </td><td style=\"text-align: right;\">            0</td><td style=\"text-align: right;\">     18.1991 </td><td style=\"text-align: right;\">      6.57894</td><td style=\"text-align: right;\">            0</td><td style=\"text-align: right;\">            0</td><td style=\"text-align: right;\">             0</td><td style=\"text-align: right;\">            0</td><td style=\"text-align: right;\">            0</td><td style=\"text-align: right;\">            0</td><td style=\"text-align: right;\">            0</td><td style=\"text-align: right;\">            0</td><td style=\"text-align: right;\">            0</td><td style=\"text-align: right;\">            0</td><td style=\"text-align: right;\">      40.8554</td><td style=\"text-align: right;\">     0        </td><td style=\"text-align: right;\">              21</td><td style=\"text-align: right;\">          2</td><td style=\"text-align: right;\">        2</td><td style=\"text-align: right;\">                        0</td><td style=\"text-align: right;\">                         0</td><td style=\"text-align: right;\">                  0</td><td style=\"text-align: right;\">                       2</td><td style=\"text-align: right;\">                        0</td><td style=\"text-align: right;\">                 2</td><td style=\"text-align: right;\">              2</td><td style=\"text-align: right;\">           2</td><td style=\"text-align: right;\">               3</td><td style=\"text-align: right;\">                  2</td><td style=\"text-align: right;\">                        0</td><td style=\"text-align: right;\">                         0</td><td style=\"text-align: right;\">                  0</td><td style=\"text-align: right;\">          2</td><td style=\"text-align: right;\">  4.7001 </td><td style=\"text-align: right;\"> 82.7626</td><td style=\"text-align: right;\">          0</td><td style=\"text-align: right;\">         0</td><td style=\"text-align: right;\">                0</td><td style=\"text-align: right;\">       0</td><td style=\"text-align: right;\">          0</td><td style=\"text-align: right;\">        0</td><td style=\"text-align: right;\">         0</td><td style=\"text-align: right;\">         2</td><td style=\"text-align: right;\">       0</td><td style=\"text-align: right;\">        0</td><td style=\"text-align: right;\">       0</td><td style=\"text-align: right;\">             0</td><td style=\"text-align: right;\">       0</td><td style=\"text-align: right;\">         0</td><td style=\"text-align: right;\">         0</td><td style=\"text-align: right;\">       0</td><td style=\"text-align: right;\">       0</td><td style=\"text-align: right;\">       0</td><td style=\"text-align: right;\">       0</td><td style=\"text-align: right;\">                  0</td><td style=\"text-align: right;\">                  0</td><td style=\"text-align: right;\">             0</td><td style=\"text-align: right;\">      0</td><td style=\"text-align: right;\">            0</td><td style=\"text-align: right;\">                   0</td><td style=\"text-align: right;\">                0</td><td style=\"text-align: right;\">                0</td><td style=\"text-align: right;\">         0</td><td style=\"text-align: right;\">           0</td><td style=\"text-align: right;\">           0</td><td style=\"text-align: right;\">               2</td><td style=\"text-align: right;\">         0</td><td style=\"text-align: right;\">       0</td><td style=\"text-align: right;\">            0</td><td style=\"text-align: right;\">           2</td><td style=\"text-align: right;\">                  0</td><td style=\"text-align: right;\">            0</td><td style=\"text-align: right;\">         0</td><td style=\"text-align: right;\">                   0</td><td style=\"text-align: right;\">           0</td><td style=\"text-align: right;\">         0</td><td style=\"text-align: right;\">         0</td><td style=\"text-align: right;\">         0</td><td style=\"text-align: right;\">           0</td><td style=\"text-align: right;\">           0</td><td style=\"text-align: right;\">           0</td><td style=\"text-align: right;\">           0</td><td style=\"text-align: right;\">             0</td><td style=\"text-align: right;\">         0</td><td style=\"text-align: right;\">           0</td><td style=\"text-align: right;\">               0</td><td style=\"text-align: right;\">          0</td><td style=\"text-align: right;\">                  0</td><td style=\"text-align: right;\">          0</td><td style=\"text-align: right;\">           0</td><td style=\"text-align: right;\">           0</td><td style=\"text-align: right;\">              0</td><td style=\"text-align: right;\">           0</td><td style=\"text-align: right;\">         0</td><td style=\"text-align: right;\">              0</td><td style=\"text-align: right;\">                       0</td><td style=\"text-align: right;\">           0</td><td style=\"text-align: right;\">           0</td><td style=\"text-align: right;\">         0</td><td style=\"text-align: right;\">                      0</td><td style=\"text-align: right;\">          2</td><td style=\"text-align: right;\">                       2</td><td style=\"text-align: right;\">             0</td><td style=\"text-align: right;\">              0</td><td style=\"text-align: right;\">             0</td><td style=\"text-align: right;\">             0</td><td style=\"text-align: right;\">            0</td><td style=\"text-align: right;\">                0</td><td style=\"text-align: right;\">            0</td><td style=\"text-align: right;\">         0</td><td style=\"text-align: right;\">           0</td><td style=\"text-align: right;\">             0</td><td style=\"text-align: right;\">           0</td><td style=\"text-align: right;\">                  0</td><td style=\"text-align: right;\">             0</td><td style=\"text-align: right;\">            0</td><td style=\"text-align: right;\">            0</td><td style=\"text-align: right;\">             0</td><td style=\"text-align: right;\">                 0</td><td style=\"text-align: right;\">        0</td></tr>\n",
       "<tr><td style=\"text-align: right;\">8.65758</td><td>OCC1CCN(CCOc2ccc(C3Oc4ccc(O)cc4SC3c3ccc(O)cc3)cc2)CC1    </td><td style=\"text-align: right;\">         -0.507967</td><td style=\"text-align: right;\">             0.140005</td><td style=\"text-align: right;\">                  184</td><td style=\"text-align: right;\">          0.140005</td><td style=\"text-align: right;\">         9.94308</td><td style=\"text-align: right;\">                    0</td><td style=\"text-align: right;\">         0.0430402 </td><td style=\"text-align: right;\">      -0.232911 </td><td style=\"text-align: right;\">         462.377</td><td style=\"text-align: right;\">             0.507967</td><td style=\"text-align: right;\">     493.192</td><td style=\"text-align: right;\">493.625</td><td style=\"text-align: right;\">            9.94308</td><td style=\"text-align: right;\">   1.26879</td><td style=\"text-align: right;\"> 1113.2  </td><td style=\"text-align: right;\">24.2001</td><td style=\"text-align: right;\">19.5463 </td><td style=\"text-align: right;\">20.3627 </td><td style=\"text-align: right;\">17.0849 </td><td style=\"text-align: right;\">12.1008 </td><td style=\"text-align: right;\">12.9804 </td><td style=\"text-align: right;\">9.18456</td><td style=\"text-align: right;\">10.368  </td><td style=\"text-align: right;\">6.78198</td><td style=\"text-align: right;\">8.12825</td><td style=\"text-align: right;\">4.672  </td><td style=\"text-align: right;\">5.99618</td><td style=\"text-align: right;\">       -2.87   </td><td style=\"text-align: right;\">     1.23911e+08</td><td style=\"text-align: right;\"> 23.8525</td><td style=\"text-align: right;\">10.81   </td><td style=\"text-align: right;\"> 5.69093</td><td style=\"text-align: right;\">    209.676</td><td style=\"text-align: right;\">   15.3196 </td><td style=\"text-align: right;\">    35.7089 </td><td style=\"text-align: right;\">           0</td><td style=\"text-align: right;\">           0</td><td style=\"text-align: right;\">           0</td><td style=\"text-align: right;\">           0</td><td style=\"text-align: right;\">          0</td><td style=\"text-align: right;\">          0</td><td style=\"text-align: right;\">          0</td><td style=\"text-align: right;\">          0</td><td style=\"text-align: right;\">    24.2655</td><td style=\"text-align: right;\">    85.4405</td><td style=\"text-align: right;\">          0</td><td style=\"text-align: right;\">          0</td><td style=\"text-align: right;\">  15.3196 </td><td style=\"text-align: right;\">    11.7619</td><td style=\"text-align: right;\">         0</td><td style=\"text-align: right;\">         0</td><td style=\"text-align: right;\">         0</td><td style=\"text-align: right;\">  29.091  </td><td style=\"text-align: right;\">         0</td><td style=\"text-align: right;\">   77.8569</td><td style=\"text-align: right;\">         0</td><td style=\"text-align: right;\">  19.1317 </td><td style=\"text-align: right;\">     0      </td><td style=\"text-align: right;\">            0</td><td style=\"text-align: right;\">     19.1317 </td><td style=\"text-align: right;\">            0</td><td style=\"text-align: right;\">     53.0675</td><td style=\"text-align: right;\">           0</td><td style=\"text-align: right;\">     5.91791</td><td style=\"text-align: right;\">    35.3225 </td><td style=\"text-align: right;\">     71.6255</td><td style=\"text-align: right;\">      0     </td><td style=\"text-align: right;\">           0</td><td style=\"text-align: right;\">           0</td><td style=\"text-align: right;\"> 82.39</td><td style=\"text-align: right;\">      0      </td><td style=\"text-align: right;\">      15.3196 </td><td style=\"text-align: right;\">             0</td><td style=\"text-align: right;\">            0</td><td style=\"text-align: right;\">     19.1317 </td><td style=\"text-align: right;\">     59.9973 </td><td style=\"text-align: right;\">      0      </td><td style=\"text-align: right;\">            0</td><td style=\"text-align: right;\">     36.3982 </td><td style=\"text-align: right;\">      4.89991</td><td style=\"text-align: right;\">            0</td><td style=\"text-align: right;\">            0</td><td style=\"text-align: right;\">             0</td><td style=\"text-align: right;\">            0</td><td style=\"text-align: right;\">            0</td><td style=\"text-align: right;\">            0</td><td style=\"text-align: right;\">            0</td><td style=\"text-align: right;\">            0</td><td style=\"text-align: right;\">            0</td><td style=\"text-align: right;\">            0</td><td style=\"text-align: right;\">      75.3504</td><td style=\"text-align: right;\">     0.357143 </td><td style=\"text-align: right;\">              35</td><td style=\"text-align: right;\">          2</td><td style=\"text-align: right;\">        2</td><td style=\"text-align: right;\">                        0</td><td style=\"text-align: right;\">                         0</td><td style=\"text-align: right;\">                  0</td><td style=\"text-align: right;\">                       2</td><td style=\"text-align: right;\">                        0</td><td style=\"text-align: right;\">                 2</td><td style=\"text-align: right;\">              2</td><td style=\"text-align: right;\">           2</td><td style=\"text-align: right;\">               7</td><td style=\"text-align: right;\">                  7</td><td style=\"text-align: right;\">                        0</td><td style=\"text-align: right;\">                         0</td><td style=\"text-align: right;\">                  0</td><td style=\"text-align: right;\">          2</td><td style=\"text-align: right;\">  5.148  </td><td style=\"text-align: right;\">136.367 </td><td style=\"text-align: right;\">          0</td><td style=\"text-align: right;\">         0</td><td style=\"text-align: right;\">                0</td><td style=\"text-align: right;\">       0</td><td style=\"text-align: right;\">          0</td><td style=\"text-align: right;\">        0</td><td style=\"text-align: right;\">         0</td><td style=\"text-align: right;\">         2</td><td style=\"text-align: right;\">       0</td><td style=\"text-align: right;\">        0</td><td style=\"text-align: right;\">       0</td><td style=\"text-align: right;\">             0</td><td style=\"text-align: right;\">       0</td><td style=\"text-align: right;\">         0</td><td style=\"text-align: right;\">         0</td><td style=\"text-align: right;\">       0</td><td style=\"text-align: right;\">       0</td><td style=\"text-align: right;\">       0</td><td style=\"text-align: right;\">       0</td><td style=\"text-align: right;\">                  0</td><td style=\"text-align: right;\">                  0</td><td style=\"text-align: right;\">             0</td><td style=\"text-align: right;\">      0</td><td style=\"text-align: right;\">            0</td><td style=\"text-align: right;\">                   0</td><td style=\"text-align: right;\">                0</td><td style=\"text-align: right;\">                0</td><td style=\"text-align: right;\">         0</td><td style=\"text-align: right;\">           0</td><td style=\"text-align: right;\">           0</td><td style=\"text-align: right;\">               2</td><td style=\"text-align: right;\">         0</td><td style=\"text-align: right;\">       0</td><td style=\"text-align: right;\">            0</td><td style=\"text-align: right;\">           2</td><td style=\"text-align: right;\">                  0</td><td style=\"text-align: right;\">            0</td><td style=\"text-align: right;\">         0</td><td style=\"text-align: right;\">                   0</td><td style=\"text-align: right;\">           0</td><td style=\"text-align: right;\">         0</td><td style=\"text-align: right;\">         0</td><td style=\"text-align: right;\">         0</td><td style=\"text-align: right;\">           0</td><td style=\"text-align: right;\">           0</td><td style=\"text-align: right;\">           0</td><td style=\"text-align: right;\">           0</td><td style=\"text-align: right;\">             0</td><td style=\"text-align: right;\">         0</td><td style=\"text-align: right;\">           0</td><td style=\"text-align: right;\">               0</td><td style=\"text-align: right;\">          0</td><td style=\"text-align: right;\">                  0</td><td style=\"text-align: right;\">          0</td><td style=\"text-align: right;\">           0</td><td style=\"text-align: right;\">           0</td><td style=\"text-align: right;\">              0</td><td style=\"text-align: right;\">           0</td><td style=\"text-align: right;\">         0</td><td style=\"text-align: right;\">              0</td><td style=\"text-align: right;\">                       0</td><td style=\"text-align: right;\">           0</td><td style=\"text-align: right;\">           0</td><td style=\"text-align: right;\">         0</td><td style=\"text-align: right;\">                      0</td><td style=\"text-align: right;\">          2</td><td style=\"text-align: right;\">                       2</td><td style=\"text-align: right;\">             0</td><td style=\"text-align: right;\">              0</td><td style=\"text-align: right;\">             0</td><td style=\"text-align: right;\">             0</td><td style=\"text-align: right;\">            0</td><td style=\"text-align: right;\">                0</td><td style=\"text-align: right;\">            0</td><td style=\"text-align: right;\">         0</td><td style=\"text-align: right;\">           0</td><td style=\"text-align: right;\">             0</td><td style=\"text-align: right;\">           0</td><td style=\"text-align: right;\">                  0</td><td style=\"text-align: right;\">             0</td><td style=\"text-align: right;\">            0</td><td style=\"text-align: right;\">            0</td><td style=\"text-align: right;\">             0</td><td style=\"text-align: right;\">                 0</td><td style=\"text-align: right;\">        0</td></tr>\n",
       "</table>"
      ]
     },
     "metadata": {},
     "output_type": "display_data"
    },
    {
     "data": {
      "text/plain": []
     },
     "execution_count": 5,
     "metadata": {},
     "output_type": "execute_result"
    }
   ],
   "source": [
    "import h2o\n",
    "\n",
    "from h2o.frame import H2OFrame\n",
    "\n",
    "h2o.init()\n",
    "h2o.h2o.remove_all()\n",
    "\n",
    "frame = H2OFrame.from_python(\n",
    "    python_obj=data\n",
    "    , destination_frame=\"data_all\"\n",
    "    , column_names=data.columns.get_values().tolist()\n",
    "    , header=1\n",
    ")\n",
    "frame.head(10)"
   ]
  },
  {
   "cell_type": "code",
   "execution_count": null,
   "metadata": {
    "collapsed": true
   },
   "outputs": [],
   "source": []
  },
  {
   "cell_type": "markdown",
   "metadata": {
    "collapsed": false
   },
   "source": [
    "## Feature Selection\n",
    "\n",
    "Before we attempt to build a model, we remove some variables that might have and adverse effect on the outcome or no effect at all. \n",
    "\n",
    "We also define a couple of helper functions that will help us update our dataset as we go:"
   ]
  },
  {
   "cell_type": "code",
   "execution_count": null,
   "metadata": {
    "collapsed": true
   },
   "outputs": [],
   "source": [
    "def get_removed_feats(data, model):\n",
    "    \"\"\"\n",
    "    This function  finds out the names of the descriptors\n",
    "    removed by the model.\n",
    "    \"\"\"\n",
    "    \n",
    "    return data.columns.values[1:][~model.get_support()]\n",
    "\n",
    "def update_data(data, removed_descriptors):\n",
    "    \"\"\"\n",
    "    Removes the descriptors marked for removal from the data frame.\n",
    "    \"\"\"\n",
    "    data.drop(removed_descriptors, 1, inplace=True)\n",
    "    print(data.shape)"
   ]
  },
  {
   "cell_type": "markdown",
   "metadata": {},
   "source": [
    "In the first step we remove features that have zero variance. In other words, the features that have the same value for all of our compounds:"
   ]
  },
  {
   "cell_type": "code",
   "execution_count": null,
   "metadata": {
    "collapsed": false
   },
   "outputs": [],
   "source": [
    "from sklearn.feature_selection import VarianceThreshold\n",
    "\n",
    "# find the names of the columns with zero variance\n",
    "var_sel = VarianceThreshold()\n",
    "var_sel.fit(data.iloc[:,1:])\n",
    "removed_descriptors = get_removed_feats(data, var_sel)\n",
    "\n",
    "# update the data frame\n",
    "update_data(data, removed_descriptors)\n",
    "data.head(10)"
   ]
  },
  {
   "cell_type": "markdown",
   "metadata": {},
   "source": [
    "In the next step, we perform univariate regression tests on the variables (regressors). The cross-correlation between the target variable and\n",
    "each regressor is evaluated and converted into a p-value and only the top 50% of variables are selected:"
   ]
  },
  {
   "cell_type": "code",
   "execution_count": null,
   "metadata": {
    "collapsed": false
   },
   "outputs": [],
   "source": [
    "from sklearn.feature_selection import SelectPercentile\n",
    "from sklearn.feature_selection import f_regression\n",
    "\n",
    "# keep only the descriptors that show significant \n",
    "# correlation with the target variable (pIC50)\n",
    "regre_sele = SelectPercentile(f_regression, percentile=50)\n",
    "regre_sele.fit(data.iloc[:,1:], data.ic50)\n",
    "removed_descriptors = get_removed_feats(data, regre_sele)\n",
    "\n",
    "# update the data frame\n",
    "update_data(data, removed_descriptors)\n",
    "data.head(10)"
   ]
  },
  {
   "cell_type": "markdown",
   "metadata": {},
   "source": [
    "Next, we train a generlized linear model and select only the descriptors that have non-zero coefficients:"
   ]
  },
  {
   "cell_type": "code",
   "execution_count": null,
   "metadata": {
    "collapsed": false
   },
   "outputs": [],
   "source": [
    "from sklearn.linear_model import Lasso\n",
    "from sklearn.feature_selection import SelectFromModel\n",
    "\n",
    "lasso = Lasso(\n",
    "    normalize=False\n",
    "    , fit_intercept=True\n",
    "    , copy_X=True\n",
    "    , random_state=42\n",
    "    , max_iter=2e3\n",
    ").fit(data.iloc[:,1:], data.ic50)\n",
    "sel_from_mod = SelectFromModel(lasso, prefit=True)\n",
    "\n",
    "removed_descriptors = get_removed_feats(data, sel_from_mod)\n",
    "\n",
    "# update the data frame\n",
    "update_data(data, removed_descriptors)\n",
    "data.head(10)"
   ]
  },
  {
   "cell_type": "markdown",
   "metadata": {},
   "source": [
    "## PCA Analysis\n",
    "\n",
    "Now that we extracted a limited subset of features that should be \n",
    "most relevant to the activity-structure relationship, we can try\n",
    "to project the molecules to 3D space and see if there is any correlation between their postion and the pIC50 value:"
   ]
  },
  {
   "cell_type": "code",
   "execution_count": null,
   "metadata": {
    "collapsed": false
   },
   "outputs": [],
   "source": [
    "from sklearn import decomposition\n",
    "\n",
    "pca = decomposition.PCA(n_components=5)\n",
    "pca.fit(data.iloc[:,1:])\n",
    "pca_result = pca.transform(data.iloc[:,1:])\n",
    "eigen_values = pca.explained_variance_ratio_"
   ]
  },
  {
   "cell_type": "code",
   "execution_count": null,
   "metadata": {
    "collapsed": false
   },
   "outputs": [],
   "source": [
    "import matplotlib.pyplot as plt\n",
    "\n",
    "from mpl_toolkits.mplot3d import Axes3D\n",
    "\n",
    "plt.rcParams[\"figure.figsize\"] = [15, 15]\n",
    "fig = plt.figure()\n",
    "ax = fig.gca(projection='3d')\n",
    "ax.scatter(\n",
    "    pca_result[:,0]\n",
    "    , pca_result[:,1]\n",
    "    , pca_result[:,2]\n",
    "    , c=data.ic50\n",
    "    , s=40\n",
    "    , cmap='YlOrRd' # red are the compounds with higher values of pIC50\n",
    ")\n",
    "ax.view_init(elev=0, azim=75)\n",
    "plt.show()"
   ]
  },
  {
   "cell_type": "code",
   "execution_count": null,
   "metadata": {
    "collapsed": false
   },
   "outputs": [],
   "source": [
    "plt.rcParams[\"figure.figsize\"] = [5, 3]\n",
    "\n",
    "plt.bar(range(pca_result.shape[1]), eigen_values)\n",
    "plt.show()"
   ]
  },
  {
   "cell_type": "markdown",
   "metadata": {},
   "source": [
    "## Model Building\n",
    "\n",
    "Because we will be building a SVM model, we first need to standardize \n",
    "the features. We do so by removing the mean and scaling to unit variance:"
   ]
  },
  {
   "cell_type": "code",
   "execution_count": null,
   "metadata": {
    "collapsed": false
   },
   "outputs": [],
   "source": [
    "from sklearn.preprocessing import StandardScaler\n",
    "from pandas import DataFrame\n",
    "\n",
    "scaler = StandardScaler(copy=False)\n",
    "scaler.fit(data.iloc[:,1:])\n",
    "scaled_descs = DataFrame(scaler.transform(data.iloc[:,1:]), columns=data.iloc[:,1:].columns)\n",
    "scaled_descs.head(10)"
   ]
  },
  {
   "cell_type": "markdown",
   "metadata": {},
   "source": [
    "Next, we create the datasets for cross-validation and testing:"
   ]
  },
  {
   "cell_type": "code",
   "execution_count": null,
   "metadata": {
    "collapsed": true
   },
   "outputs": [],
   "source": [
    "from sklearn.cross_validation import train_test_split\n",
    "\n",
    "descriptors_train, descriptors_test, pIC50_train, pIC50_test = train_test_split(\n",
    "    scaled_descs\n",
    "    , data.ic50\n",
    "    , test_size=0.4\n",
    "    , random_state=42\n",
    ")"
   ]
  },
  {
   "cell_type": "markdown",
   "metadata": {},
   "source": [
    "and build the model:"
   ]
  },
  {
   "cell_type": "code",
   "execution_count": null,
   "metadata": {
    "collapsed": false
   },
   "outputs": [],
   "source": [
    "from sklearn.cross_validation import cross_val_score\n",
    "from sklearn.svm import SVR\n",
    "\n",
    "model = SVR(C=5.0, kernel='rbf', epsilon=0.4)\n",
    "model.fit(descriptors_train, pIC50_train)"
   ]
  },
  {
   "cell_type": "markdown",
   "metadata": {},
   "source": [
    "We get the cross-validation scores (coefficient of determination) and the correlation between the predicted and true values of pIC50:"
   ]
  },
  {
   "cell_type": "code",
   "execution_count": null,
   "metadata": {
    "collapsed": false
   },
   "outputs": [],
   "source": [
    "scores = cross_val_score(model, descriptors_train, pIC50_train, cv=5)\n",
    "\n",
    "print(\"Mean R^2: %0.2f (+/- %0.2f)\" % (scores.mean(), scores.std() * 2))\n",
    "print(\"Mean R: %0.2f (+/- %0.2f)\" % (np.sqrt(scores).mean(), np.sqrt(scores).std() * 2))"
   ]
  },
  {
   "cell_type": "code",
   "execution_count": null,
   "metadata": {
    "collapsed": false
   },
   "outputs": [],
   "source": [
    "print(\"R^2: %0.2f\" % model.score(descriptors_test, pIC50_test))\n",
    "print(\"R: %0.2f\" % np.sqrt(model.score(descriptors_test, pIC50_test)))"
   ]
  },
  {
   "cell_type": "code",
   "execution_count": null,
   "metadata": {
    "collapsed": false,
    "scrolled": false
   },
   "outputs": [],
   "source": [
    "plt.rcParams[\"figure.figsize\"] = [15, 15]\n",
    "span = (1,12)\n",
    "axes = plt.gca()\n",
    "axes.set_xlim(span)\n",
    "axes.set_ylim(span)\n",
    "\n",
    "plt.plot((span[0],span[1]), (span[0],span[1]), linestyle='--')\n",
    "\n",
    "plt.scatter(\n",
    "    pIC50_train\n",
    "    , model.predict(descriptors_train)\n",
    "    , c='green'\n",
    "    , s=20\n",
    ")\n",
    "\n",
    "plt.scatter(\n",
    "    pIC50_test\n",
    "    , model.predict(descriptors_test)\n",
    "    , c='blue'\n",
    "    , s=20\n",
    ")"
   ]
  },
  {
   "cell_type": "code",
   "execution_count": null,
   "metadata": {
    "collapsed": false
   },
   "outputs": [],
   "source": [
    "(pIC50_test - model.predict(descriptors_test)).abs().hist(bins=30).plot()"
   ]
  },
  {
   "cell_type": "code",
   "execution_count": null,
   "metadata": {
    "collapsed": true
   },
   "outputs": [],
   "source": []
  }
 ],
 "metadata": {
  "kernelspec": {
   "display_name": "Python 3",
   "language": "python",
   "name": "python3"
  },
  "language_info": {
   "codemirror_mode": {
    "name": "ipython",
    "version": 3
   },
   "file_extension": ".py",
   "mimetype": "text/x-python",
   "name": "python",
   "nbconvert_exporter": "python",
   "pygments_lexer": "ipython3",
   "version": "3.5.1"
  }
 },
 "nbformat": 4,
 "nbformat_minor": 0
}
