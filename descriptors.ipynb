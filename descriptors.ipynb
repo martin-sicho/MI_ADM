{
 "cells": [
  {
   "cell_type": "code",
   "execution_count": 1,
   "metadata": {
    "collapsed": true
   },
   "outputs": [],
   "source": [
    "import pickle\n",
    "\n",
    "final_desc_set_svr = pickle.load(open('final_desc_set_svr.pickle', 'rb'))\n",
    "correlated_descs_svr = pickle.load(open('correlated_descs_svr.pickle', 'rb'))\n",
    "importances_rf = pickle.load(open('importances_rf.pickle', 'rb'))"
   ]
  },
  {
   "cell_type": "code",
   "execution_count": 12,
   "metadata": {
    "collapsed": false
   },
   "outputs": [
    {
     "data": {
      "text/plain": [
       "['MinPartialCharge',\n",
       " 'MaxAbsPartialCharge',\n",
       " 'MolMR',\n",
       " 'NumAromaticCarbocycles',\n",
       " 'fr_benzene',\n",
       " 'NumAromaticRings',\n",
       " 'MaxPartialCharge',\n",
       " 'MolLogP',\n",
       " 'BalabanJ',\n",
       " 'Chi4n',\n",
       " 'Chi4v',\n",
       " 'TPSA',\n",
       " 'MinAbsPartialCharge',\n",
       " 'SlogP_VSA1',\n",
       " 'Chi0n',\n",
       " 'Chi1v',\n",
       " 'Chi3n',\n",
       " 'PEOE_VSA7',\n",
       " 'MinEStateIndex',\n",
       " 'SMR_VSA7',\n",
       " 'Chi1n',\n",
       " 'Chi3v',\n",
       " 'Chi1',\n",
       " 'Chi0v',\n",
       " 'Kappa3',\n",
       " 'BertzCT',\n",
       " 'MinAbsEStateIndex',\n",
       " 'PEOE_VSA6',\n",
       " 'PEOE_VSA10',\n",
       " 'EState_VSA8',\n",
       " 'MaxEStateIndex',\n",
       " 'PEOE_VSA8']"
      ]
     },
     "execution_count": 12,
     "metadata": {},
     "output_type": "execute_result"
    }
   ],
   "source": [
    "tf_top = importances_rf[importances_rf['scaled_importance'] > 0.05].variable.tolist()\n",
    "tf_top"
   ]
  },
  {
   "cell_type": "code",
   "execution_count": 13,
   "metadata": {
    "collapsed": false
   },
   "outputs": [],
   "source": [
    "final_desc_set_with_correlated = set()\n",
    "for desc in final_desc_set_svr:\n",
    "    final_desc_set_with_correlated.add(desc)\n",
    "    final_desc_set_with_correlated.update(correlated_descs_svr[desc])\n",
    "\n",
    "hits = [ x for x in tf_top if x in final_desc_set_with_correlated]    "
   ]
  },
  {
   "cell_type": "code",
   "execution_count": 14,
   "metadata": {
    "collapsed": false
   },
   "outputs": [
    {
     "data": {
      "text/plain": [
       "0.84375"
      ]
     },
     "execution_count": 14,
     "metadata": {},
     "output_type": "execute_result"
    }
   ],
   "source": [
    "len(hits) / len(tf_top)"
   ]
  },
  {
   "cell_type": "code",
   "execution_count": null,
   "metadata": {
    "collapsed": true
   },
   "outputs": [],
   "source": []
  }
 ],
 "metadata": {
  "kernelspec": {
   "display_name": "Python 3",
   "language": "python",
   "name": "python3"
  },
  "language_info": {
   "codemirror_mode": {
    "name": "ipython",
    "version": 3
   },
   "file_extension": ".py",
   "mimetype": "text/x-python",
   "name": "python",
   "nbconvert_exporter": "python",
   "pygments_lexer": "ipython3",
   "version": "3.5.1"
  }
 },
 "nbformat": 4,
 "nbformat_minor": 0
}
