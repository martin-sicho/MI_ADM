{
 "cells": [
  {
   "cell_type": "code",
   "execution_count": 1,
   "metadata": {
    "collapsed": true
   },
   "outputs": [],
   "source": [
    "import pickle\n",
    "\n",
    "final_desc_set_svr = pickle.load(open('final_desc_set_svr.pickle', 'rb'))\n",
    "correlated_descs_svr = pickle.load(open('correlated_descs_svr.pickle', 'rb'))\n",
    "importances_rf = pickle.load(open('importances_rf.pickle', 'rb'))"
   ]
  },
  {
   "cell_type": "code",
   "execution_count": 2,
   "metadata": {
    "collapsed": false
   },
   "outputs": [
    {
     "data": {
      "text/plain": [
       "['MinPartialCharge',\n",
       " 'MaxAbsPartialCharge',\n",
       " 'MolMR',\n",
       " 'fr_benzene',\n",
       " 'NumAromaticRings',\n",
       " 'NumAromaticCarbocycles',\n",
       " 'MaxPartialCharge',\n",
       " 'Chi4v',\n",
       " 'BalabanJ',\n",
       " 'MolLogP',\n",
       " 'MinAbsPartialCharge',\n",
       " 'Chi4n',\n",
       " 'Chi1v',\n",
       " 'TPSA',\n",
       " 'SlogP_VSA1',\n",
       " 'Chi0n',\n",
       " 'Chi1n']"
      ]
     },
     "execution_count": 2,
     "metadata": {},
     "output_type": "execute_result"
    }
   ],
   "source": [
    "tf_top = importances_rf[importances_rf['scaled_importance'] > 0.1].variable.tolist()\n",
    "tf_top"
   ]
  },
  {
   "cell_type": "code",
   "execution_count": 3,
   "metadata": {
    "collapsed": false
   },
   "outputs": [],
   "source": [
    "final_desc_set_with_correlated = set()\n",
    "for desc in final_desc_set_svr:\n",
    "    final_desc_set_with_correlated.add(desc)\n",
    "    final_desc_set_with_correlated.update(correlated_descs_svr[desc])\n",
    "\n",
    "hits = [ x for x in tf_top if x in final_desc_set_with_correlated]    "
   ]
  },
  {
   "cell_type": "code",
   "execution_count": 4,
   "metadata": {
    "collapsed": false
   },
   "outputs": [
    {
     "data": {
      "text/plain": [
       "1.0"
      ]
     },
     "execution_count": 4,
     "metadata": {},
     "output_type": "execute_result"
    }
   ],
   "source": [
    "len(hits) / len(tf_top)"
   ]
  },
  {
   "cell_type": "code",
   "execution_count": null,
   "metadata": {
    "collapsed": true
   },
   "outputs": [],
   "source": []
  }
 ],
 "metadata": {
  "kernelspec": {
   "display_name": "Python 3",
   "language": "python",
   "name": "python3"
  },
  "language_info": {
   "codemirror_mode": {
    "name": "ipython",
    "version": 3
   },
   "file_extension": ".py",
   "mimetype": "text/x-python",
   "name": "python",
   "nbconvert_exporter": "python",
   "pygments_lexer": "ipython3",
   "version": "3.5.1"
  }
 },
 "nbformat": 4,
 "nbformat_minor": 0
}
