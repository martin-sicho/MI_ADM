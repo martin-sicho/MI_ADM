{
 "cells": [
  {
   "cell_type": "code",
   "execution_count": 1,
   "metadata": {
    "collapsed": false
   },
   "outputs": [
    {
     "name": "stderr",
     "output_type": "stream",
     "text": [
      "/home/sichom/Software/virtualenvs/miniconda3/envs/MI_ADM/lib/python3.5/site-packages/rdkit/Chem/PeriodicTable.py:131: FutureWarning: split() requires a non-empty pattern match.\n",
      "  splitLine = blankExpr.split(line)\n"
     ]
    }
   ],
   "source": [
    "from compound_db_utils import settings\n",
    "from compound_db_utils.data_loaders import fetch_learning_data\n",
    "\n",
    "data = fetch_learning_data(\n",
    "        ['MI-T-722a16f1']\n",
    "        , bioacitivities_cols=('activity_comment', 'value')\n",
    "        , col_names_map={\n",
    "            settings.COMPOUNDS_TABLE + '_smiles' : 'smiles'\n",
    "            , settings.BIOACTIVITIES_TABLE + '_value' : 'ic50_experiment'\n",
    "            , settings.BIOACTIVITIES_TABLE + '_activity_comment' : 'comment'\n",
    "        }\n",
    "        , create_rdkit_mols=False\n",
    "        , compute_descriptors=False\n",
    "    )"
   ]
  },
  {
   "cell_type": "code",
   "execution_count": 2,
   "metadata": {
    "collapsed": false
   },
   "outputs": [
    {
     "data": {
      "text/html": [
       "<table border=\"1\" class=\"dataframe\">\n",
       "  <thead>\n",
       "    <tr style=\"text-align: right;\">\n",
       "      <th></th>\n",
       "      <th>comment</th>\n",
       "      <th>ic50_experiment</th>\n",
       "      <th>smiles</th>\n",
       "    </tr>\n",
       "  </thead>\n",
       "  <tbody>\n",
       "    <tr>\n",
       "      <th>0</th>\n",
       "      <td>Unspecified</td>\n",
       "      <td>4.7</td>\n",
       "      <td>CCc1c(O)ccc2c1OC(c1ccc(OCCN3CCCCC3)cc1)C(c1ccc(O)cc1)S2</td>\n",
       "    </tr>\n",
       "    <tr>\n",
       "      <th>1</th>\n",
       "      <td>Unspecified</td>\n",
       "      <td>24.8</td>\n",
       "      <td>Cc1ccc(S(=O)(=O)N2CCc3cc(O)ccc3C2c2ccc(OCCN3CCCC3)cc2)cc1</td>\n",
       "    </tr>\n",
       "    <tr>\n",
       "      <th>2</th>\n",
       "      <td>Unspecified</td>\n",
       "      <td>6.0</td>\n",
       "      <td>CC1=C(c2ccc(O)cc2)C(=O)c2ccc(O)cc21</td>\n",
       "    </tr>\n",
       "    <tr>\n",
       "      <th>3</th>\n",
       "      <td>Unspecified</td>\n",
       "      <td>1.3</td>\n",
       "      <td>CC(COc1ccc(C2Oc3ccc(O)cc3SC2c2ccc(O)cc2)cc1)N1CCCC1</td>\n",
       "    </tr>\n",
       "    <tr>\n",
       "      <th>4</th>\n",
       "      <td>Unspecified</td>\n",
       "      <td>1.3</td>\n",
       "      <td>CC(COc1ccc(C2Oc3ccc(O)cc3SC2c2ccc(O)cc2)cc1)N1CCCC1</td>\n",
       "    </tr>\n",
       "  </tbody>\n",
       "</table>"
      ],
      "text/plain": [
       "<IPython.core.display.HTML object>"
      ]
     },
     "execution_count": 2,
     "metadata": {},
     "output_type": "execute_result"
    }
   ],
   "source": [
    "from IPython.display import HTML\n",
    "HTML(data[:5].to_html())"
   ]
  },
  {
   "cell_type": "code",
   "execution_count": null,
   "metadata": {
    "collapsed": true
   },
   "outputs": [],
   "source": []
  }
 ],
 "metadata": {
  "kernelspec": {
   "display_name": "Python 3",
   "language": "python",
   "name": "python3"
  },
  "language_info": {
   "codemirror_mode": {
    "name": "ipython",
    "version": 3
   },
   "file_extension": ".py",
   "mimetype": "text/x-python",
   "name": "python",
   "nbconvert_exporter": "python",
   "pygments_lexer": "ipython3",
   "version": "3.5.1"
  }
 },
 "nbformat": 4,
 "nbformat_minor": 0
}
