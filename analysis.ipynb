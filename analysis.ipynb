{
 "cells": [
  {
   "cell_type": "code",
   "execution_count": 1,
   "metadata": {
    "collapsed": false
   },
   "outputs": [
    {
     "data": {
      "text/plain": [
       "((516, 2), (516, 2))"
      ]
     },
     "execution_count": 1,
     "metadata": {},
     "output_type": "execute_result"
    }
   ],
   "source": [
    "import pickle\n",
    "\n",
    "MAX_ERROR = 500\n",
    "\n",
    "predictions_svr = pickle.load(open('validation_set_predictions_svr.pickle', 'rb'))\n",
    "predictions_rf = pickle.load(open('validation_set_predictions_rf.pickle', 'rb'))\n",
    "predictions_svr.shape, predictions_rf.shape"
   ]
  },
  {
   "cell_type": "code",
   "execution_count": 2,
   "metadata": {
    "collapsed": false
   },
   "outputs": [],
   "source": [
    "import numpy as np\n",
    "\n",
    "def convert_to_conc(column):\n",
    "    return column.apply(lambda x : np.power(10, -1 * x) * 1.0e9)\n",
    "\n",
    "predictions_svr['ic50_predicted_nM'] = convert_to_conc(predictions_svr.ic50_predicted)\n",
    "predictions_svr['ic50_true_nM']= convert_to_conc(predictions_svr.ic50_true)\n",
    "predictions_rf['ic50_predicted_nM'] = convert_to_conc(predictions_rf.ic50_predicted)\n",
    "predictions_rf['ic50_true_nM']= convert_to_conc(predictions_rf.ic50_true)"
   ]
  },
  {
   "cell_type": "code",
   "execution_count": 3,
   "metadata": {
    "collapsed": false
   },
   "outputs": [
    {
     "name": "stdout",
     "output_type": "stream",
     "text": [
      "(516, 4)\n"
     ]
    },
    {
     "data": {
      "text/html": [
       "<div>\n",
       "<table border=\"1\" class=\"dataframe\">\n",
       "  <thead>\n",
       "    <tr style=\"text-align: right;\">\n",
       "      <th></th>\n",
       "      <th>ic50_predicted</th>\n",
       "      <th>ic50_true</th>\n",
       "      <th>ic50_predicted_nM</th>\n",
       "      <th>ic50_true_nM</th>\n",
       "    </tr>\n",
       "    <tr>\n",
       "      <th>smiles</th>\n",
       "      <th></th>\n",
       "      <th></th>\n",
       "      <th></th>\n",
       "      <th></th>\n",
       "    </tr>\n",
       "  </thead>\n",
       "  <tbody>\n",
       "    <tr>\n",
       "      <th>CCc1c(O)ccc2c1O[C@H](c1ccc(OCCN3CCCCC3)cc1)[C@H](c1ccc(O)cc1)S2</th>\n",
       "      <td>7.985939</td>\n",
       "      <td>8.327902</td>\n",
       "      <td>10.329077</td>\n",
       "      <td>4.70</td>\n",
       "    </tr>\n",
       "    <tr>\n",
       "      <th>COc1c(Br)c(O)c(Br)c2nc(-c3ccc(O)c(F)c3)oc12</th>\n",
       "      <td>5.588936</td>\n",
       "      <td>6.252588</td>\n",
       "      <td>2576.702591</td>\n",
       "      <td>559.00</td>\n",
       "    </tr>\n",
       "    <tr>\n",
       "      <th>Oc1ccc2nc(-c3ccc(O)c(F)c3)cc(Cl)c2c1</th>\n",
       "      <td>6.522049</td>\n",
       "      <td>6.609065</td>\n",
       "      <td>300.573763</td>\n",
       "      <td>246.00</td>\n",
       "    </tr>\n",
       "    <tr>\n",
       "      <th>COc1cc(/C=C2\\SC(=O)NC2=O)ccc1Oc1ccc(C#N)cc1C(F)(F)F</th>\n",
       "      <td>5.246315</td>\n",
       "      <td>5.657577</td>\n",
       "      <td>5671.329663</td>\n",
       "      <td>2200.00</td>\n",
       "    </tr>\n",
       "    <tr>\n",
       "      <th>CCOC(=O)CSc1nn(C)c(=S)s1</th>\n",
       "      <td>4.752796</td>\n",
       "      <td>5.097820</td>\n",
       "      <td>17668.690016</td>\n",
       "      <td>7983.25</td>\n",
       "    </tr>\n",
       "  </tbody>\n",
       "</table>\n",
       "</div>"
      ],
      "text/plain": [
       "                                                    ic50_predicted  ic50_true  \\\n",
       "smiles                                                                          \n",
       "CCc1c(O)ccc2c1O[C@H](c1ccc(OCCN3CCCCC3)cc1)[C@H...        7.985939   8.327902   \n",
       "COc1c(Br)c(O)c(Br)c2nc(-c3ccc(O)c(F)c3)oc12               5.588936   6.252588   \n",
       "Oc1ccc2nc(-c3ccc(O)c(F)c3)cc(Cl)c2c1                      6.522049   6.609065   \n",
       "COc1cc(/C=C2\\SC(=O)NC2=O)ccc1Oc1ccc(C#N)cc1C(F)...        5.246315   5.657577   \n",
       "CCOC(=O)CSc1nn(C)c(=S)s1                                  4.752796   5.097820   \n",
       "\n",
       "                                                    ic50_predicted_nM  \\\n",
       "smiles                                                                  \n",
       "CCc1c(O)ccc2c1O[C@H](c1ccc(OCCN3CCCCC3)cc1)[C@H...          10.329077   \n",
       "COc1c(Br)c(O)c(Br)c2nc(-c3ccc(O)c(F)c3)oc12               2576.702591   \n",
       "Oc1ccc2nc(-c3ccc(O)c(F)c3)cc(Cl)c2c1                       300.573763   \n",
       "COc1cc(/C=C2\\SC(=O)NC2=O)ccc1Oc1ccc(C#N)cc1C(F)...        5671.329663   \n",
       "CCOC(=O)CSc1nn(C)c(=S)s1                                 17668.690016   \n",
       "\n",
       "                                                    ic50_true_nM  \n",
       "smiles                                                            \n",
       "CCc1c(O)ccc2c1O[C@H](c1ccc(OCCN3CCCCC3)cc1)[C@H...          4.70  \n",
       "COc1c(Br)c(O)c(Br)c2nc(-c3ccc(O)c(F)c3)oc12               559.00  \n",
       "Oc1ccc2nc(-c3ccc(O)c(F)c3)cc(Cl)c2c1                      246.00  \n",
       "COc1cc(/C=C2\\SC(=O)NC2=O)ccc1Oc1ccc(C#N)cc1C(F)...       2200.00  \n",
       "CCOC(=O)CSc1nn(C)c(=S)s1                                 7983.25  "
      ]
     },
     "execution_count": 3,
     "metadata": {},
     "output_type": "execute_result"
    }
   ],
   "source": [
    "print(predictions_rf.shape)\n",
    "predictions_rf.index = predictions_svr.index\n",
    "predictions_rf.head()"
   ]
  },
  {
   "cell_type": "code",
   "execution_count": 4,
   "metadata": {
    "collapsed": false
   },
   "outputs": [
    {
     "name": "stdout",
     "output_type": "stream",
     "text": [
      "(516, 4)\n"
     ]
    },
    {
     "data": {
      "text/html": [
       "<div>\n",
       "<table border=\"1\" class=\"dataframe\">\n",
       "  <thead>\n",
       "    <tr style=\"text-align: right;\">\n",
       "      <th></th>\n",
       "      <th>ic50_predicted</th>\n",
       "      <th>ic50_true</th>\n",
       "      <th>ic50_predicted_nM</th>\n",
       "      <th>ic50_true_nM</th>\n",
       "    </tr>\n",
       "    <tr>\n",
       "      <th>smiles</th>\n",
       "      <th></th>\n",
       "      <th></th>\n",
       "      <th></th>\n",
       "      <th></th>\n",
       "    </tr>\n",
       "  </thead>\n",
       "  <tbody>\n",
       "    <tr>\n",
       "      <th>CCc1c(O)ccc2c1O[C@H](c1ccc(OCCN3CCCCC3)cc1)[C@H](c1ccc(O)cc1)S2</th>\n",
       "      <td>7.867606</td>\n",
       "      <td>8.327902</td>\n",
       "      <td>13.564205</td>\n",
       "      <td>4.70</td>\n",
       "    </tr>\n",
       "    <tr>\n",
       "      <th>COc1c(Br)c(O)c(Br)c2nc(-c3ccc(O)c(F)c3)oc12</th>\n",
       "      <td>5.748524</td>\n",
       "      <td>6.252588</td>\n",
       "      <td>1784.331355</td>\n",
       "      <td>559.00</td>\n",
       "    </tr>\n",
       "    <tr>\n",
       "      <th>Oc1ccc2nc(-c3ccc(O)c(F)c3)cc(Cl)c2c1</th>\n",
       "      <td>6.004725</td>\n",
       "      <td>6.609065</td>\n",
       "      <td>989.178529</td>\n",
       "      <td>246.00</td>\n",
       "    </tr>\n",
       "    <tr>\n",
       "      <th>COc1cc(/C=C2\\SC(=O)NC2=O)ccc1Oc1ccc(C#N)cc1C(F)(F)F</th>\n",
       "      <td>5.301276</td>\n",
       "      <td>5.657577</td>\n",
       "      <td>4997.164427</td>\n",
       "      <td>2200.00</td>\n",
       "    </tr>\n",
       "    <tr>\n",
       "      <th>CCOC(=O)CSc1nn(C)c(=S)s1</th>\n",
       "      <td>5.018956</td>\n",
       "      <td>5.097820</td>\n",
       "      <td>9572.899722</td>\n",
       "      <td>7983.25</td>\n",
       "    </tr>\n",
       "  </tbody>\n",
       "</table>\n",
       "</div>"
      ],
      "text/plain": [
       "                                                    ic50_predicted  ic50_true  \\\n",
       "smiles                                                                          \n",
       "CCc1c(O)ccc2c1O[C@H](c1ccc(OCCN3CCCCC3)cc1)[C@H...        7.867606   8.327902   \n",
       "COc1c(Br)c(O)c(Br)c2nc(-c3ccc(O)c(F)c3)oc12               5.748524   6.252588   \n",
       "Oc1ccc2nc(-c3ccc(O)c(F)c3)cc(Cl)c2c1                      6.004725   6.609065   \n",
       "COc1cc(/C=C2\\SC(=O)NC2=O)ccc1Oc1ccc(C#N)cc1C(F)...        5.301276   5.657577   \n",
       "CCOC(=O)CSc1nn(C)c(=S)s1                                  5.018956   5.097820   \n",
       "\n",
       "                                                    ic50_predicted_nM  \\\n",
       "smiles                                                                  \n",
       "CCc1c(O)ccc2c1O[C@H](c1ccc(OCCN3CCCCC3)cc1)[C@H...          13.564205   \n",
       "COc1c(Br)c(O)c(Br)c2nc(-c3ccc(O)c(F)c3)oc12               1784.331355   \n",
       "Oc1ccc2nc(-c3ccc(O)c(F)c3)cc(Cl)c2c1                       989.178529   \n",
       "COc1cc(/C=C2\\SC(=O)NC2=O)ccc1Oc1ccc(C#N)cc1C(F)...        4997.164427   \n",
       "CCOC(=O)CSc1nn(C)c(=S)s1                                  9572.899722   \n",
       "\n",
       "                                                    ic50_true_nM  \n",
       "smiles                                                            \n",
       "CCc1c(O)ccc2c1O[C@H](c1ccc(OCCN3CCCCC3)cc1)[C@H...          4.70  \n",
       "COc1c(Br)c(O)c(Br)c2nc(-c3ccc(O)c(F)c3)oc12               559.00  \n",
       "Oc1ccc2nc(-c3ccc(O)c(F)c3)cc(Cl)c2c1                      246.00  \n",
       "COc1cc(/C=C2\\SC(=O)NC2=O)ccc1Oc1ccc(C#N)cc1C(F)...       2200.00  \n",
       "CCOC(=O)CSc1nn(C)c(=S)s1                                 7983.25  "
      ]
     },
     "execution_count": 4,
     "metadata": {},
     "output_type": "execute_result"
    }
   ],
   "source": [
    "print(predictions_svr.shape)\n",
    "predictions_svr.head()"
   ]
  },
  {
   "cell_type": "code",
   "execution_count": 5,
   "metadata": {
    "collapsed": false
   },
   "outputs": [
    {
     "name": "stdout",
     "output_type": "stream",
     "text": [
      "(263, 4) (253, 4)\n"
     ]
    }
   ],
   "source": [
    "threshold = MAX_ERROR\n",
    "\n",
    "diffs_rf = ((predictions_rf.ic50_predicted_nM - predictions_rf.ic50_true_nM).abs() < threshold).tolist()\n",
    "accurate_rf = predictions_rf[diffs_rf]\n",
    "\n",
    "diffs_svr = ((predictions_svr.ic50_predicted_nM - predictions_svr.ic50_true_nM).abs() < threshold).tolist()\n",
    "accurate_svr = predictions_svr[diffs_svr]\n",
    "\n",
    "print(accurate_rf.shape, accurate_svr.shape)"
   ]
  },
  {
   "cell_type": "code",
   "execution_count": 6,
   "metadata": {
    "collapsed": false
   },
   "outputs": [
    {
     "name": "stdout",
     "output_type": "stream",
     "text": [
      "(226, 8)\n"
     ]
    },
    {
     "data": {
      "text/html": [
       "<div>\n",
       "<table border=\"1\" class=\"dataframe\">\n",
       "  <thead>\n",
       "    <tr style=\"text-align: right;\">\n",
       "      <th></th>\n",
       "      <th>ic50_predicted_rf</th>\n",
       "      <th>ic50_true_rf</th>\n",
       "      <th>ic50_predicted_nM_rf</th>\n",
       "      <th>ic50_true_nM_rf</th>\n",
       "      <th>ic50_predicted_svr</th>\n",
       "      <th>ic50_true_svr</th>\n",
       "      <th>ic50_predicted_nM_svr</th>\n",
       "      <th>ic50_true_nM_svr</th>\n",
       "    </tr>\n",
       "    <tr>\n",
       "      <th>smiles</th>\n",
       "      <th></th>\n",
       "      <th></th>\n",
       "      <th></th>\n",
       "      <th></th>\n",
       "      <th></th>\n",
       "      <th></th>\n",
       "      <th></th>\n",
       "      <th></th>\n",
       "    </tr>\n",
       "  </thead>\n",
       "  <tbody>\n",
       "    <tr>\n",
       "      <th>CCc1c(O)ccc2c1O[C@H](c1ccc(OCCN3CCCCC3)cc1)[C@H](c1ccc(O)cc1)S2</th>\n",
       "      <td>7.985939</td>\n",
       "      <td>8.327902</td>\n",
       "      <td>10.329077</td>\n",
       "      <td>4.7</td>\n",
       "      <td>7.867606</td>\n",
       "      <td>8.327902</td>\n",
       "      <td>13.564205</td>\n",
       "      <td>4.7</td>\n",
       "    </tr>\n",
       "    <tr>\n",
       "      <th>Cc1nc(CN2CCN(c3nc(NCCc4ccc(O)cc4)nc(N(C)CCCc4ccc(Cl)cc4)n3)CC2)cs1</th>\n",
       "      <td>7.144063</td>\n",
       "      <td>6.823909</td>\n",
       "      <td>71.769055</td>\n",
       "      <td>150.0</td>\n",
       "      <td>6.885006</td>\n",
       "      <td>6.823909</td>\n",
       "      <td>130.314751</td>\n",
       "      <td>150.0</td>\n",
       "    </tr>\n",
       "    <tr>\n",
       "      <th>Oc1ccc([C@H]2Sc3cc(O)ccc3S[C@H]2c2ccc(OCCN3CCCC3)c(Br)c2)cc1</th>\n",
       "      <td>8.621171</td>\n",
       "      <td>8.397940</td>\n",
       "      <td>2.392371</td>\n",
       "      <td>4.0</td>\n",
       "      <td>8.679498</td>\n",
       "      <td>8.397940</td>\n",
       "      <td>2.091714</td>\n",
       "      <td>4.0</td>\n",
       "    </tr>\n",
       "    <tr>\n",
       "      <th>O=C1c2c(Cl)cc(O)cc2O[C@H](c2ccc(OCCN3CCCCC3)cc2)[C@@H]1c1ccc(O)cc1</th>\n",
       "      <td>7.499370</td>\n",
       "      <td>7.236572</td>\n",
       "      <td>31.668707</td>\n",
       "      <td>58.0</td>\n",
       "      <td>7.472004</td>\n",
       "      <td>7.236572</td>\n",
       "      <td>33.728433</td>\n",
       "      <td>58.0</td>\n",
       "    </tr>\n",
       "    <tr>\n",
       "      <th>C=CCc1cc(O)cc2nc(-c3ccc(O)cc3)oc12</th>\n",
       "      <td>6.162645</td>\n",
       "      <td>6.138466</td>\n",
       "      <td>687.630518</td>\n",
       "      <td>727.0</td>\n",
       "      <td>5.979697</td>\n",
       "      <td>6.138466</td>\n",
       "      <td>1047.858442</td>\n",
       "      <td>727.0</td>\n",
       "    </tr>\n",
       "  </tbody>\n",
       "</table>\n",
       "</div>"
      ],
      "text/plain": [
       "                                                    ic50_predicted_rf  \\\n",
       "smiles                                                                  \n",
       "CCc1c(O)ccc2c1O[C@H](c1ccc(OCCN3CCCCC3)cc1)[C@H...           7.985939   \n",
       "Cc1nc(CN2CCN(c3nc(NCCc4ccc(O)cc4)nc(N(C)CCCc4cc...           7.144063   \n",
       "Oc1ccc([C@H]2Sc3cc(O)ccc3S[C@H]2c2ccc(OCCN3CCCC...           8.621171   \n",
       "O=C1c2c(Cl)cc(O)cc2O[C@H](c2ccc(OCCN3CCCCC3)cc2...           7.499370   \n",
       "C=CCc1cc(O)cc2nc(-c3ccc(O)cc3)oc12                           6.162645   \n",
       "\n",
       "                                                    ic50_true_rf  \\\n",
       "smiles                                                             \n",
       "CCc1c(O)ccc2c1O[C@H](c1ccc(OCCN3CCCCC3)cc1)[C@H...      8.327902   \n",
       "Cc1nc(CN2CCN(c3nc(NCCc4ccc(O)cc4)nc(N(C)CCCc4cc...      6.823909   \n",
       "Oc1ccc([C@H]2Sc3cc(O)ccc3S[C@H]2c2ccc(OCCN3CCCC...      8.397940   \n",
       "O=C1c2c(Cl)cc(O)cc2O[C@H](c2ccc(OCCN3CCCCC3)cc2...      7.236572   \n",
       "C=CCc1cc(O)cc2nc(-c3ccc(O)cc3)oc12                      6.138466   \n",
       "\n",
       "                                                    ic50_predicted_nM_rf  \\\n",
       "smiles                                                                     \n",
       "CCc1c(O)ccc2c1O[C@H](c1ccc(OCCN3CCCCC3)cc1)[C@H...             10.329077   \n",
       "Cc1nc(CN2CCN(c3nc(NCCc4ccc(O)cc4)nc(N(C)CCCc4cc...             71.769055   \n",
       "Oc1ccc([C@H]2Sc3cc(O)ccc3S[C@H]2c2ccc(OCCN3CCCC...              2.392371   \n",
       "O=C1c2c(Cl)cc(O)cc2O[C@H](c2ccc(OCCN3CCCCC3)cc2...             31.668707   \n",
       "C=CCc1cc(O)cc2nc(-c3ccc(O)cc3)oc12                            687.630518   \n",
       "\n",
       "                                                    ic50_true_nM_rf  \\\n",
       "smiles                                                                \n",
       "CCc1c(O)ccc2c1O[C@H](c1ccc(OCCN3CCCCC3)cc1)[C@H...              4.7   \n",
       "Cc1nc(CN2CCN(c3nc(NCCc4ccc(O)cc4)nc(N(C)CCCc4cc...            150.0   \n",
       "Oc1ccc([C@H]2Sc3cc(O)ccc3S[C@H]2c2ccc(OCCN3CCCC...              4.0   \n",
       "O=C1c2c(Cl)cc(O)cc2O[C@H](c2ccc(OCCN3CCCCC3)cc2...             58.0   \n",
       "C=CCc1cc(O)cc2nc(-c3ccc(O)cc3)oc12                            727.0   \n",
       "\n",
       "                                                    ic50_predicted_svr  \\\n",
       "smiles                                                                   \n",
       "CCc1c(O)ccc2c1O[C@H](c1ccc(OCCN3CCCCC3)cc1)[C@H...            7.867606   \n",
       "Cc1nc(CN2CCN(c3nc(NCCc4ccc(O)cc4)nc(N(C)CCCc4cc...            6.885006   \n",
       "Oc1ccc([C@H]2Sc3cc(O)ccc3S[C@H]2c2ccc(OCCN3CCCC...            8.679498   \n",
       "O=C1c2c(Cl)cc(O)cc2O[C@H](c2ccc(OCCN3CCCCC3)cc2...            7.472004   \n",
       "C=CCc1cc(O)cc2nc(-c3ccc(O)cc3)oc12                            5.979697   \n",
       "\n",
       "                                                    ic50_true_svr  \\\n",
       "smiles                                                              \n",
       "CCc1c(O)ccc2c1O[C@H](c1ccc(OCCN3CCCCC3)cc1)[C@H...       8.327902   \n",
       "Cc1nc(CN2CCN(c3nc(NCCc4ccc(O)cc4)nc(N(C)CCCc4cc...       6.823909   \n",
       "Oc1ccc([C@H]2Sc3cc(O)ccc3S[C@H]2c2ccc(OCCN3CCCC...       8.397940   \n",
       "O=C1c2c(Cl)cc(O)cc2O[C@H](c2ccc(OCCN3CCCCC3)cc2...       7.236572   \n",
       "C=CCc1cc(O)cc2nc(-c3ccc(O)cc3)oc12                       6.138466   \n",
       "\n",
       "                                                    ic50_predicted_nM_svr  \\\n",
       "smiles                                                                      \n",
       "CCc1c(O)ccc2c1O[C@H](c1ccc(OCCN3CCCCC3)cc1)[C@H...              13.564205   \n",
       "Cc1nc(CN2CCN(c3nc(NCCc4ccc(O)cc4)nc(N(C)CCCc4cc...             130.314751   \n",
       "Oc1ccc([C@H]2Sc3cc(O)ccc3S[C@H]2c2ccc(OCCN3CCCC...               2.091714   \n",
       "O=C1c2c(Cl)cc(O)cc2O[C@H](c2ccc(OCCN3CCCCC3)cc2...              33.728433   \n",
       "C=CCc1cc(O)cc2nc(-c3ccc(O)cc3)oc12                            1047.858442   \n",
       "\n",
       "                                                    ic50_true_nM_svr  \n",
       "smiles                                                                \n",
       "CCc1c(O)ccc2c1O[C@H](c1ccc(OCCN3CCCCC3)cc1)[C@H...               4.7  \n",
       "Cc1nc(CN2CCN(c3nc(NCCc4ccc(O)cc4)nc(N(C)CCCc4cc...             150.0  \n",
       "Oc1ccc([C@H]2Sc3cc(O)ccc3S[C@H]2c2ccc(OCCN3CCCC...               4.0  \n",
       "O=C1c2c(Cl)cc(O)cc2O[C@H](c2ccc(OCCN3CCCCC3)cc2...              58.0  \n",
       "C=CCc1cc(O)cc2nc(-c3ccc(O)cc3)oc12                             727.0  "
      ]
     },
     "execution_count": 6,
     "metadata": {},
     "output_type": "execute_result"
    }
   ],
   "source": [
    "from pandas import merge\n",
    "\n",
    "accurate_all = merge(accurate_rf, accurate_svr, suffixes=('_rf', '_svr'), left_index=True, right_index=True, how='inner')\n",
    "print(accurate_all.shape)\n",
    "accurate_all.head()"
   ]
  },
  {
   "cell_type": "code",
   "execution_count": 7,
   "metadata": {
    "collapsed": false
   },
   "outputs": [
    {
     "data": {
      "image/png": "[encoded data removed]",
      "text/plain": [
       "<matplotlib.figure.Figure at 0x7f1b4b271438>"
      ]
     },
     "metadata": {},
     "output_type": "display_data"
    }
   ],
   "source": [
    "%matplotlib inline\n",
    "from matplotlib import pyplot as plt\n",
    "import numpy as np\n",
    "\n",
    "differences = []\n",
    "for x, y in zip(accurate_all.ic50_predicted_rf, accurate_all.ic50_predicted_svr):\n",
    "    differences.append(abs(x - y))\n",
    "differences = np.array(differences)\n",
    "weights = np.ones_like(differences) / len(differences)\n",
    "plt.hist(differences, weights=weights)\n",
    "plt.show()"
   ]
  },
  {
   "cell_type": "code",
   "execution_count": 8,
   "metadata": {
    "collapsed": false
   },
   "outputs": [
    {
     "name": "stdout",
     "output_type": "stream",
     "text": [
      "(0.94612834556477421, 7.0286044686621165e-254)\n"
     ]
    },
    {
     "data": {
      "text/plain": [
       "<matplotlib.collections.PathCollection at 0x7f1b404e7128>"
      ]
     },
     "execution_count": 8,
     "metadata": {},
     "output_type": "execute_result"
    },
    {
     "data": {
      "image/png": "[encoded data removed]",
      "text/plain": [
       "<matplotlib.figure.Figure at 0x7f1b47595a58>"
      ]
     },
     "metadata": {},
     "output_type": "display_data"
    }
   ],
   "source": [
    "from scipy.stats import pearsonr\n",
    "\n",
    "plt.rcParams[\"figure.figsize\"] = [15, 15]\n",
    "span = (1,12)\n",
    "axes = plt.gca()\n",
    "axes.set_xlim(span)\n",
    "axes.set_ylim(span)\n",
    "\n",
    "print(pearsonr(predictions_svr.ic50_predicted, predictions_rf.ic50_predicted))\n",
    "\n",
    "plt.plot((span[0],span[1]), (span[0],span[1]), linestyle='--')\n",
    "plt.scatter(\n",
    "    predictions_svr.ic50_predicted\n",
    "    , predictions_rf.ic50_predicted\n",
    "    , c='blue'\n",
    "    , s=20\n",
    ")"
   ]
  },
  {
   "cell_type": "code",
   "execution_count": null,
   "metadata": {
    "collapsed": true
   },
   "outputs": [],
   "source": []
  }
 ],
 "metadata": {
  "kernelspec": {
   "display_name": "Python 3",
   "language": "python",
   "name": "python3"
  },
  "language_info": {
   "codemirror_mode": {
    "name": "ipython",
    "version": 3
   },
   "file_extension": ".py",
   "mimetype": "text/x-python",
   "name": "python",
   "nbconvert_exporter": "python",
   "pygments_lexer": "ipython3",
   "version": "3.5.1"
  }
 },
 "nbformat": 4,
 "nbformat_minor": 0
}
